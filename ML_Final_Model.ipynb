{
  "cells": [
    {
      "cell_type": "code",
      "execution_count": 1,
      "metadata": {
        "id": "tZs1R-OeYNkH"
      },
      "outputs": [],
      "source": [
        "# Spark init#save the files in the g drive folder - first two commands\n",
        "!wget -q https://dlcdn.apache.org/spark/spark-3.1.2/spark-3.1.2-bin-hadoop2.7.tgz \n",
        "!tar xf spark-3.1.2-bin-hadoop2.7.tgz\n",
        "import os\n",
        "os.environ[\"JAVA_HOME\"] = \"/usr/lib/jvm/default-java\"\n",
        "os.environ[\"SPARK_HOME\"] = \"/content/spark-3.1.2-bin-hadoop2.7\"\n",
        "!pip install -q findspark\n",
        "import findspark\n",
        "findspark.init()\n",
        "from pyspark.sql import SparkSession\n",
        "spark = SparkSession.builder\\\n",
        "        .master(\"local\")\\\n",
        "        .appName(\"Colab\")\\\n",
        "        .config('spark.ui.port', '4050')\\\n",
        "        .getOrCreate()"
      ]
    },
    {
      "cell_type": "code",
      "execution_count": 2,
      "metadata": {
        "colab": {
          "base_uri": "https://localhost:8080/"
        },
        "id": "bKibR5caYjOg",
        "outputId": "cf7c4595-8048-4fad-b036-b4b51833256c"
      },
      "outputs": [
        {
          "output_type": "stream",
          "name": "stdout",
          "text": [
            "Mounted at /content/drive\n"
          ]
        }
      ],
      "source": [
        "from google.colab import drive\n",
        "drive.mount('/content/drive')"
      ]
    },
    {
      "cell_type": "code",
      "execution_count": 3,
      "metadata": {
        "colab": {
          "base_uri": "https://localhost:8080/"
        },
        "id": "NxEP0LoYYpsG",
        "outputId": "d6cd5c92-ff2d-490f-d8b9-7108a9f4f7ae"
      },
      "outputs": [
        {
          "output_type": "stream",
          "name": "stdout",
          "text": [
            "--2022-04-28 22:09:22--  https://drive.google.com/file/d/1b-Z0Tt--ioLGhPTNwHVKyYY7mS7ynRJs/view?usp=sharing\n",
            "Resolving drive.google.com (drive.google.com)... 142.251.8.100, 142.251.8.139, 142.251.8.101, ...\n",
            "Connecting to drive.google.com (drive.google.com)|142.251.8.100|:443... connected.\n",
            "HTTP request sent, awaiting response... 200 OK\n",
            "Length: unspecified [text/html]\n",
            "Saving to: ‘/content/drive/MyDrive/data/zip_code_market_tracker.tsv000’\n",
            "\n",
            "/content/drive/MyDr     [  <=>               ]  63.97K   183KB/s    in 0.3s    \n",
            "\n",
            "2022-04-28 22:09:23 (183 KB/s) - ‘/content/drive/MyDrive/data/zip_code_market_tracker.tsv000’ saved [3028826328]\n",
            "\n"
          ]
        }
      ],
      "source": [
        "!wget --continue https://drive.google.com/file/d/1b-Z0Tt--ioLGhPTNwHVKyYY7mS7ynRJs/view?usp=sharing   -O /content/drive/MyDrive/data/zip_code_market_tracker.tsv000\n",
        "housing_df_raw = spark.read.csv('/content/drive/MyDrive/data/zip_code_market_tracker.tsv000', sep='\\t',header=True)"
      ]
    },
    {
      "cell_type": "code",
      "execution_count": 4,
      "metadata": {
        "id": "yEXJXqedY8UA"
      },
      "outputs": [],
      "source": [
        "housing_trimmed_df = housing_df_raw.select('period_begin','period_end','property_type','property_type_id','state','state_code','region','median_sale_price','median_ppsf')"
      ]
    },
    {
      "cell_type": "code",
      "execution_count": 5,
      "metadata": {
        "colab": {
          "base_uri": "https://localhost:8080/"
        },
        "id": "uD91tWIEY_5p",
        "outputId": "05608985-91f5-4864-ddb2-364d3c14ef4c"
      },
      "outputs": [
        {
          "output_type": "stream",
          "name": "stdout",
          "text": [
            "+----------------+-------------+----------+--------------------+----------------+-----------------------+------------------+----------------------+---------------------+\n",
            "|housing_data_zip|        state|state_code|       property_type|property_type_id|median_sale_price_delta| median_ppsf_delta|Investment_Value_Sales|Investment_Value_Ppsf|\n",
            "+----------------+-------------+----------+--------------------+----------------+-----------------------+------------------+----------------------+---------------------+\n",
            "|           01432|Massachusetts|        MA|         Condo/Co-op|               3|               544012.5|301.46480560302734|             Excellent|                Great|\n",
            "|           01541|Massachusetts|        MA|     All Residential|              -1|              2363000.0| 617.3615188598633|             Excellent|            Excellent|\n",
            "|           01778|Massachusetts|        MA|Multi-Family (2-4...|               4|              1202500.0| 566.3466644287109|             Excellent|            Excellent|\n",
            "|           01834|Massachusetts|        MA|Single Family Res...|               6|              2321800.0| 756.8697509765625|             Excellent|            Excellent|\n",
            "|           01835|Massachusetts|        MA|Multi-Family (2-4...|               4|              3433375.0| 1379.350513458252|             Excellent|            Excellent|\n",
            "+----------------+-------------+----------+--------------------+----------------+-----------------------+------------------+----------------------+---------------------+\n",
            "only showing top 5 rows\n",
            "\n"
          ]
        }
      ],
      "source": [
        "from pyspark.sql.functions import year,quarter,when,split,col\n",
        "\n",
        "housing_transformed = housing_trimmed_df.withColumn('period_begin_year',year('period_begin')).withColumn('period_begin_quarter',quarter('period_begin'))\n",
        "housing_transformed_2 = housing_transformed.withColumn('median_sales_2012', when(housing_transformed.period_begin_year== '2012',housing_transformed.median_sale_price).cast('float')).withColumn('median_ppsf_2012', when(housing_transformed.period_begin_year== '2012',housing_transformed.median_ppsf).cast('float')).withColumn('median_sales_2020', when(housing_transformed.period_begin_year== '2020',housing_transformed.median_sale_price).cast('float')).withColumn('median_ppsf_2020', when(housing_transformed.period_begin_year== '2020',housing_transformed.median_ppsf).cast('float'))\n",
        "housing_transformed_3 = housing_transformed_2.select(housing_transformed_2.region.alias('zip'),housing_transformed_2.property_type_id.alias('type_id'),'median_sales_2012','median_ppsf_2012','median_sales_2020','median_ppsf_2020').fillna(0)\n",
        "housing_transformed_4 = housing_transformed_3.groupBy('zip','type_id').sum()\n",
        "housing_unique = housing_trimmed_df.drop('period_begin','period_end','median_sale_price','median_ppsf').distinct().sort(housing_trimmed_df.state.desc())\n",
        "housing_transformed_5 = housing_transformed_4.join(housing_unique,(housing_unique.region==housing_transformed_4.zip) & (housing_unique.property_type_id==housing_transformed_4.type_id),'left')\n",
        "housing_transformed_6 = housing_transformed_5.withColumn('median_sale_price_delta',housing_transformed_5['sum(median_sales_2020)'] - housing_transformed_5['sum(median_sales_2012)']).withColumn('median_ppsf_delta',housing_transformed_5['sum(median_ppsf_2020)'] - housing_transformed_5['sum(median_ppsf_2012)']).withColumn('zip_only',split('zip',' ').getItem(2))\n",
        "housing_transformed_7 = housing_transformed_6.where(col('sum(median_sales_2020)')!= 0.0).where(col('sum(median_sales_2012)')!= 0.0).where(col('sum(median_ppsf_2020)')!= 0.0).where(col('sum(median_ppsf_2012)')!= 0.0)\n",
        "housing_transformed_8 = housing_transformed_7.withColumn('Investment_Value_Sales',\\\n",
        "                                                         when(housing_transformed_7.median_sale_price_delta / housing_transformed_7['sum(median_sales_2012)'] < 0.05, 'Bad')\n",
        "                                                         .when(housing_transformed_7.median_sale_price_delta / housing_transformed_7['sum(median_sales_2012)'] <= 0.10, 'Good')\n",
        "                                                         .when(housing_transformed_7.median_sale_price_delta / housing_transformed_7['sum(median_sales_2012)'] <= 0.20, 'Great')\n",
        "                                                         .when(housing_transformed_7.median_sale_price_delta / housing_transformed_7['sum(median_sales_2012)'] > 0.20, 'Excellent')).withColumn('Investment_Value_Ppsf',\\\n",
        "                                                         when(housing_transformed_7.median_ppsf_delta / housing_transformed_7['sum(median_ppsf_2012)'] < 0.05, 'Bad')\n",
        "                                                         .when(housing_transformed_7.median_ppsf_delta / housing_transformed_7['sum(median_ppsf_2012)'] <= 0.10, 'Good')\n",
        "                                                         .when(housing_transformed_7.median_ppsf_delta / housing_transformed_7['sum(median_ppsf_2012)'] <= 0.20, 'Great')\n",
        "                                                         .when(housing_transformed_7.median_ppsf_delta / housing_transformed_7['sum(median_ppsf_2012)'] > 0.20, 'Excellent'))\n",
        "housing_transformed_final= housing_transformed_8.select(housing_transformed_7.zip_only.alias('housing_data_zip'),'state','state_code','property_type',housing_transformed_7.property_type_id.cast(\"int\"),'median_sale_price_delta','median_ppsf_delta','Investment_Value_Sales','Investment_Value_Ppsf').coalesce(50)\n",
        "housing_transformed_final.show(5)"
      ]
    },
    {
      "cell_type": "code",
      "execution_count": 6,
      "metadata": {
        "colab": {
          "base_uri": "https://localhost:8080/"
        },
        "id": "48flhdksntQ9",
        "outputId": "e042815e-199e-483c-fbb0-5244b12c1d0f"
      },
      "outputs": [
        {
          "output_type": "stream",
          "name": "stdout",
          "text": [
            "+--------+---------------+---------------+--------------+---------------+------------------+---------------+---------------+--------------+---------------+------------------+\n",
            "|Zip_Code|Median_Inc_2012|Median_Age_2012|Total_Pop_2012|Total_Kids_2012|Total_Married_2012|Median_Inc_2017|Median_Age_2017|Total_Pop_2017|Total_Kids_2017|Total_Married_2017|\n",
            "+--------+---------------+---------------+--------------+---------------+------------------+---------------+---------------+--------------+---------------+------------------+\n",
            "|   02053|         108181|           41.4|         12742|           3432|                99|         115432|           41.2|         13162|           3318|               120|\n",
            "|   02090|         130824|           44.2|         14616|           4323|               143|         146042|           45.0|         15612|           4184|               159|\n",
            "|   03442|          65048|           39.2|          1384|            352|                35|          59881|           38.8|          1411|            326|                37|\n",
            "|   03904|          53137|           45.1|          8114|           1294|               284|          72228|           40.6|          7939|           1454|               187|\n",
            "|   04438|          41042|           42.0|          1346|            306|                72|          43438|           43.6|           983|            168|                59|\n",
            "|   06382|          60461|           41.4|         11795|           2362|               154|          66345|           43.8|         12142|           1959|               332|\n",
            "|   06518|          75036|           34.3|         19135|           2795|               338|          72943|           31.5|         19176|           2469|               227|\n",
            "|   07820|     -666666666|   -666666666.0|             0|              0|                 0|     -666666666|           31.6|            46|              0|                 0|\n",
            "|   08648|          86067|           37.6|         32168|           6730|               447|          95537|           39.4|         32231|           6167|               312|\n",
            "|   11563|          86804|           43.6|         22953|           4821|               252|          91042|           42.4|         22286|           4755|               398|\n",
            "|   11722|          67041|           32.6|         38140|          10235|               812|          68588|           34.3|         34123|           8365|               744|\n",
            "|   12529|          65294|           49.5|          2714|            509|                98|          59375|           48.4|          2858|            522|               117|\n",
            "|   12847|          57232|           53.6|           628|             93|                 0|          55694|           54.4|           348|             55|                 2|\n",
            "|   13865|          50320|           44.5|          6465|           1417|               195|          67077|           42.0|          6232|           1578|               159|\n",
            "|   14204|          20888|           37.3|          9202|           2170|               160|          25267|           42.8|          9022|           2166|               155|\n",
            "|   14838|          50179|           41.1|          1924|            515|                60|          57578|           44.3|          1938|            397|                90|\n",
            "|   15555|          40625|           55.4|            46|              6|                 0|          36667|           31.9|           119|             22|                24|\n",
            "|   15634|          60227|           30.5|           639|            274|                 0|     -666666666|           35.5|           394|             96|                 0|\n",
            "|   16250|          23516|           24.5|           295|             76|                 4|          21429|           32.9|           528|            149|                20|\n",
            "|   16504|          43755|           38.7|         17461|           3323|               427|          41917|           37.4|         15749|           3371|               417|\n",
            "+--------+---------------+---------------+--------------+---------------+------------------+---------------+---------------+--------------+---------------+------------------+\n",
            "only showing top 20 rows\n",
            "\n"
          ]
        }
      ],
      "source": [
        "## https://api.census.gov/data/2020/acs/acs5/variables.html lists all the possible variable keys for the API Request\n",
        "## Below provides a DF with the ZIP Code and the Median household income.\n",
        "## Need to initialize spark session first\n",
        "##CODE\n",
        "import requests\n",
        "from pyspark.sql.types import *\n",
        "from pyspark.sql.functions import from_json\n",
        "import pandas as pd\n",
        "from pyspark.sql.functions import col\n",
        "\n",
        "start_year = 2012\n",
        "end_year = 2017\n",
        "variables = \"B19013_001E,B01002_001E,B01003_001E,B09001_001E,B11009_002E\"\n",
        "year = start_year\n",
        "key  = '46d133e794f5998e012ea4e0d83d6fb6085136b0'\n",
        "geography = 'zip%20code%20tabulation%20area'\n",
        "\n",
        "call = 1\n",
        "\n",
        "while call < 3:\n",
        "  census_API_call = requests.get(f'https://api.census.gov/data/{year}/acs/acs5?get={variables}&for={geography}:*&key={key}')\n",
        "  census_JSON = census_API_call.json()\n",
        "  df = pd.DataFrame(census_JSON[1:], columns = census_JSON[0])\n",
        "  #print(df)\n",
        "  sparkDF = spark.createDataFrame(df)\n",
        "  #sparkDF.show()\n",
        "  column_title_median_income = f\"Median_Inc_{year}\"\n",
        "  column_title_median_age = f\"Median_Age_{year}\"\n",
        "  column_title_total_pop = f\"Total_Pop_{year}\"\n",
        "  column_title_num_children = f\"Total_Kids_{year}\"\n",
        "  column_title_married_households = f\"Total_Married_{year}\"\n",
        "\n",
        "  if year == start_year:\n",
        "    updated_df = sparkDF.select(col(\"zip code tabulation area\").alias(\"Zip_Code\"),col(\"B19013_001E\").alias(column_title_median_income)\\\n",
        "                                ,col(\"B01002_001E\").alias(column_title_median_age)\n",
        "                                ,col(\"B01003_001E\").alias(column_title_total_pop)\n",
        "                                ,col(\"B09001_001E\").alias(column_title_num_children)\n",
        "                                ,col(\"B11009_002E\").alias(column_title_married_households))\n",
        "  else:\n",
        "    updated_df = updated_df.join(sparkDF,sparkDF['zip code tabulation area']== updated_df.Zip_Code,'left').select(updated_df [\"*\"],col(\"B19013_001E\").alias(column_title_median_income)\\\n",
        "                                ,col(\"B01002_001E\").alias(column_title_median_age)\n",
        "                                ,col(\"B01003_001E\").alias(column_title_total_pop)\n",
        "                                ,col(\"B09001_001E\").alias(column_title_num_children)\n",
        "                                ,col(\"B11009_002E\").alias(column_title_married_households))\n",
        "  \n",
        "  #print(year)\n",
        "  year = end_year\n",
        "  call += 1\n",
        "\n",
        "updated_df.show()"
      ]
    },
    {
      "cell_type": "code",
      "execution_count": 7,
      "metadata": {
        "colab": {
          "base_uri": "https://localhost:8080/"
        },
        "id": "rcRhBdgsnwdk",
        "outputId": "e39d8066-7d56-40e9-f1ff-9ba3d15cc70f"
      },
      "outputs": [
        {
          "output_type": "stream",
          "name": "stdout",
          "text": [
            "+---------------+------------------+---------------+--------------+---------------+------------------+------------------+---------------+--------------+---------------+------------------+\n",
            "|Zip_Code_Census|Median_Income_2012|Median_Age_2012|Total_Pop_2012|Total_Kids_2012|Total_Married_2012|Median_Income_2017|Median_Age_2017|Total_Pop_2017|Total_Kids_2017|Total_Married_2017|\n",
            "+---------------+------------------+---------------+--------------+---------------+------------------+------------------+---------------+--------------+---------------+------------------+\n",
            "|          02053|            108181|           41.4|         12742|           3432|                99|            115432|           41.2|         13162|           3318|               120|\n",
            "|          02090|            130824|           44.2|         14616|           4323|               143|            146042|           45.0|         15612|           4184|               159|\n",
            "|          03442|             65048|           39.2|          1384|            352|                35|             59881|           38.8|          1411|            326|                37|\n",
            "|          03904|             53137|           45.1|          8114|           1294|               284|             72228|           40.6|          7939|           1454|               187|\n",
            "|          04438|             41042|           42.0|          1346|            306|                72|             43438|           43.6|           983|            168|                59|\n",
            "|          06382|             60461|           41.4|         11795|           2362|               154|             66345|           43.8|         12142|           1959|               332|\n",
            "|          06518|             75036|           34.3|         19135|           2795|               338|             72943|           31.5|         19176|           2469|               227|\n",
            "|          08648|             86067|           37.6|         32168|           6730|               447|             95537|           39.4|         32231|           6167|               312|\n",
            "|          11563|             86804|           43.6|         22953|           4821|               252|             91042|           42.4|         22286|           4755|               398|\n",
            "|          11722|             67041|           32.6|         38140|          10235|               812|             68588|           34.3|         34123|           8365|               744|\n",
            "|          12529|             65294|           49.5|          2714|            509|                98|             59375|           48.4|          2858|            522|               117|\n",
            "|          12847|             57232|           53.6|           628|             93|                 0|             55694|           54.4|           348|             55|                 2|\n",
            "|          13865|             50320|           44.5|          6465|           1417|               195|             67077|           42.0|          6232|           1578|               159|\n",
            "|          14204|             20888|           37.3|          9202|           2170|               160|             25267|           42.8|          9022|           2166|               155|\n",
            "|          14838|             50179|           41.1|          1924|            515|                60|             57578|           44.3|          1938|            397|                90|\n",
            "|          15555|             40625|           55.4|            46|              6|                 0|             36667|           31.9|           119|             22|                24|\n",
            "|          16250|             23516|           24.5|           295|             76|                 4|             21429|           32.9|           528|            149|                20|\n",
            "|          16504|             43755|           38.7|         17461|           3323|               427|             41917|           37.4|         15749|           3371|               417|\n",
            "|          17401|             27598|           29.2|         17100|           5080|               916|             26212|           28.3|         18135|           5725|               665|\n",
            "|          18333|            129063|           40.6|           761|            191|                 0|             28147|           46.6|           454|             57|                77|\n",
            "+---------------+------------------+---------------+--------------+---------------+------------------+------------------+---------------+--------------+---------------+------------------+\n",
            "only showing top 20 rows\n",
            "\n"
          ]
        }
      ],
      "source": [
        "from pyspark.sql.functions import countDistinct, col\n",
        "census_median_inc = updated_df.withColumnRenamed('Zip_Code', 'Zip_Code_Census')\\\n",
        ".withColumnRenamed('Median_Inc_2012', 'Median_Income_2012').withColumnRenamed('Median_Inc_2017', 'Median_Income_2017')\n",
        "census_median_inc_2 =census_median_inc.where(col('Median_Income_2012') != -666666666)\\\n",
        ".where(col('Median_Age_2012') != -666666666)\\\n",
        ".where(col('Total_Pop_2012') != -666666666)\\\n",
        ".where(col('Total_Kids_2012') != -666666666)\\\n",
        ".where(col('Total_Married_2012') != -666666666)\\\n",
        ".where(col('Median_Income_2017') != -666666666)\\\n",
        ".where(col('Median_Age_2017') != -666666666)\\\n",
        ".where(col('Total_Pop_2017') != -666666666)\\\n",
        ".where(col('Total_Kids_2017') != -666666666)\\\n",
        ".where(col('Total_Married_2017') != -666666666)\n",
        "\n",
        "census_data_raw = census_median_inc_2.dropna()\n",
        "census_data_raw.show()"
      ]
    },
    {
      "cell_type": "code",
      "execution_count": 8,
      "metadata": {
        "colab": {
          "base_uri": "https://localhost:8080/"
        },
        "id": "4E1CvrgAqWpR",
        "outputId": "d8b0ff8f-5325-47c3-b202-350e85053639"
      },
      "outputs": [
        {
          "output_type": "stream",
          "name": "stdout",
          "text": [
            "+---------------+-------------------+----------------+---------------+----------------+-------------------+\n",
            "|Zip_Code_Census|Median_Income_Delta|Median_Age_Delta|Total_Pop_Delta|Total_Kids_Delta|Total_Married_Delta|\n",
            "+---------------+-------------------+----------------+---------------+----------------+-------------------+\n",
            "|          02053|             7251.0|            -0.2|          420.0|          -114.0|               21.0|\n",
            "|          02090|            15218.0|             0.8|          996.0|          -139.0|               16.0|\n",
            "|          03442|            -5167.0|            -0.4|           27.0|           -26.0|                2.0|\n",
            "|          03904|            19091.0|            -4.5|         -175.0|           160.0|              -97.0|\n",
            "|          04438|             2396.0|             1.6|         -363.0|          -138.0|              -13.0|\n",
            "|          06382|             5884.0|             2.4|          347.0|          -403.0|              178.0|\n",
            "|          06518|            -2093.0|            -2.8|           41.0|          -326.0|             -111.0|\n",
            "|          08648|             9470.0|             1.8|           63.0|          -563.0|             -135.0|\n",
            "|          11563|             4238.0|            -1.2|         -667.0|           -66.0|              146.0|\n",
            "|          11722|             1547.0|             1.7|        -4017.0|         -1870.0|              -68.0|\n",
            "|          12529|            -5919.0|            -1.1|          144.0|            13.0|               19.0|\n",
            "|          12847|            -1538.0|             0.8|         -280.0|           -38.0|                2.0|\n",
            "|          13865|            16757.0|            -2.5|         -233.0|           161.0|              -36.0|\n",
            "|          14204|             4379.0|             5.5|         -180.0|            -4.0|               -5.0|\n",
            "|          14838|             7399.0|             3.2|           14.0|          -118.0|               30.0|\n",
            "|          15555|            -3958.0|           -23.5|           73.0|            16.0|               24.0|\n",
            "|          16250|            -2087.0|             8.4|          233.0|            73.0|               16.0|\n",
            "|          16504|            -1838.0|            -1.3|        -1712.0|            48.0|              -10.0|\n",
            "|          17401|            -1386.0|            -0.9|         1035.0|           645.0|             -251.0|\n",
            "|          18333|          -100916.0|             6.0|         -307.0|          -134.0|               77.0|\n",
            "+---------------+-------------------+----------------+---------------+----------------+-------------------+\n",
            "only showing top 20 rows\n",
            "\n",
            "root\n",
            " |-- Zip_Code_Census: string (nullable = true)\n",
            " |-- Median_Income_Delta: float (nullable = true)\n",
            " |-- Median_Age_Delta: float (nullable = true)\n",
            " |-- Total_Pop_Delta: float (nullable = true)\n",
            " |-- Total_Kids_Delta: float (nullable = true)\n",
            " |-- Total_Married_Delta: float (nullable = true)\n",
            "\n"
          ]
        }
      ],
      "source": [
        "census_data_transorm_1 = census_data_raw.withColumn('Median_Income_Delta', (census_data_raw.Median_Income_2017 - census_data_raw.Median_Income_2012))\\\n",
        ".withColumn('Median_Age_Delta', (census_data_raw.Median_Age_2017 - census_data_raw.Median_Age_2012))\\\n",
        ".withColumn('Total_Pop_Delta', (census_data_raw.Total_Pop_2017 - census_data_raw.Total_Pop_2012))\\\n",
        ".withColumn('Total_Kids_Delta', (census_data_raw.Total_Kids_2017 - census_data_raw.Total_Kids_2012))\\\n",
        ".withColumn('Total_Married_Delta', (census_data_raw.Total_Married_2017 - census_data_raw.Total_Married_2012))\n",
        "\n",
        "census_data_deltas = census_data_transorm_1.select(census_data_transorm_1.Zip_Code_Census,census_data_transorm_1.Median_Income_Delta.cast('float'),census_data_transorm_1.Median_Age_Delta.cast('float'),census_data_transorm_1.Total_Pop_Delta.cast('float'),census_data_transorm_1.Total_Kids_Delta.cast('float'),census_data_transorm_1.Total_Married_Delta.cast('float'))\n",
        "census_data_deltas.show()\n",
        "census_data_deltas.printSchema()"
      ]
    },
    {
      "cell_type": "code",
      "execution_count": 9,
      "metadata": {
        "colab": {
          "base_uri": "https://localhost:8080/"
        },
        "id": "XISIqyyZopNe",
        "outputId": "ee38f4bf-b603-49ec-f418-6d45fc9b6949"
      },
      "outputs": [
        {
          "output_type": "execute_result",
          "data": {
            "text/plain": [
              "DataFrame[Zip_Code: string, state: string, state_code: string, property_type: string, property_type_id: int, median_sale_price_delta: double, median_ppsf_delta: double, Investment_Value_Sales: string, Investment_Value_Ppsf: string, Median_Income_Delta: float, Median_Age_Delta: float, Total_Pop_Delta: float, Total_Kids_Delta: float, Total_Married_Delta: float]"
            ]
          },
          "metadata": {},
          "execution_count": 9
        }
      ],
      "source": [
        "# Join two dataframes to reflect the sales price and median income based on the zipcode\n",
        "df_merged = housing_transformed_final.join(census_data_deltas, census_data_deltas ['Zip_Code_Census'] ==  housing_transformed_final['housing_data_zip'],'left')\\\n",
        "                                                .select(housing_transformed_final['housing_data_zip'].alias('Zip_Code'), \n",
        "                                                housing_transformed_final['state'],\n",
        "                                                housing_transformed_final['state_code'],\n",
        "                                                housing_transformed_final['property_type'],\n",
        "                                                housing_transformed_final['property_type_id'],\n",
        "                                                housing_transformed_final['median_sale_price_delta'],\n",
        "                                                housing_transformed_final['median_ppsf_delta'],\n",
        "                                                housing_transformed_final['Investment_Value_Sales'],\n",
        "                                                housing_transformed_final['Investment_Value_Ppsf'],\n",
        "                                                census_data_deltas['Median_Income_Delta'],\n",
        "                                                census_data_deltas['Median_Age_Delta'],\n",
        "                                                census_data_deltas['Total_Pop_Delta'],\n",
        "                                                census_data_deltas['Total_Kids_Delta'],\n",
        "                                                census_data_deltas['Total_Married_Delta'])\n",
        "df_merged = df_merged.dropna()\n",
        "df_merged.coalesce(50)\n"
      ]
    },
    {
      "cell_type": "code",
      "execution_count": 10,
      "metadata": {
        "colab": {
          "base_uri": "https://localhost:8080/"
        },
        "id": "p0SCAe1Xoq7_",
        "outputId": "d54f9efc-38dd-425e-d9d5-67ecabf1d638"
      },
      "outputs": [
        {
          "output_type": "stream",
          "name": "stdout",
          "text": [
            "+--------+-------------+----------+--------------------+----------------+-----------------------+------------------+----------------------+---------------------+-------------------+----------------+---------------+----------------+-------------------+--------------------+\n",
            "|Zip_Code|        state|state_code|       property_type|property_type_id|median_sale_price_delta| median_ppsf_delta|Investment_Value_Sales|Investment_Value_Ppsf|Median_Income_Delta|Median_Age_Delta|Total_Pop_Delta|Total_Kids_Delta|Total_Married_Delta|            features|\n",
            "+--------+-------------+----------+--------------------+----------------+-----------------------+------------------+----------------------+---------------------+-------------------+----------------+---------------+----------------+-------------------+--------------------+\n",
            "|   02053|Massachusetts|        MA|Multi-Family (2-4...|               4|              3439175.0| 1384.633399963379|             Excellent|            Excellent|             7251.0|            -0.2|          420.0|          -114.0|               21.0|[4.0,7251.0,-0.20...|\n",
            "|   02053|Massachusetts|        MA|         Condo/Co-op|               3|              2115300.0|1993.4987182617188|             Excellent|            Excellent|             7251.0|            -0.2|          420.0|          -114.0|               21.0|[3.0,7251.0,-0.20...|\n",
            "|   02053|Massachusetts|        MA|Single Family Res...|               6|              1736200.0| 799.8460235595703|             Excellent|            Excellent|             7251.0|            -0.2|          420.0|          -114.0|               21.0|[6.0,7251.0,-0.20...|\n",
            "|   02053|Massachusetts|        MA|     All Residential|              -1|              1591532.0| 859.5112762451172|             Excellent|            Excellent|             7251.0|            -0.2|          420.0|          -114.0|               21.0|[-1.0,7251.0,-0.2...|\n",
            "|   02053|Massachusetts|        MA|           Townhouse|              13|              1292788.0|1209.8195877075195|             Excellent|            Excellent|             7251.0|            -0.2|          420.0|          -114.0|               21.0|[13.0,7251.0,-0.2...|\n",
            "|   02090|Massachusetts|        MA|Single Family Res...|               6|              3926025.0|1189.9554443359375|             Excellent|            Excellent|            15218.0|             0.8|          996.0|          -139.0|               16.0|[6.0,15218.0,0.80...|\n",
            "|   02090|Massachusetts|        MA|     All Residential|              -1|              3610775.0|1269.9152221679688|             Excellent|            Excellent|            15218.0|             0.8|          996.0|          -139.0|               16.0|[-1.0,15218.0,0.8...|\n",
            "|   03442|New Hampshire|        NH|         Condo/Co-op|               3|               465566.0|108.01313781738281|             Excellent|                Great|            -5167.0|            -0.4|           27.0|           -26.0|                2.0|[3.0,-5167.0,-0.4...|\n",
            "|   03442|New Hampshire|        NH|     All Residential|              -1|              1462399.5|  741.820987701416|             Excellent|            Excellent|            -5167.0|            -0.4|           27.0|           -26.0|                2.0|[-1.0,-5167.0,-0....|\n",
            "|   03442|New Hampshire|        NH|Single Family Res...|               6|              1629941.5| 994.5951232910156|             Excellent|            Excellent|            -5167.0|            -0.4|           27.0|           -26.0|                2.0|[6.0,-5167.0,-0.4...|\n",
            "|   06382|  Connecticut|        CT|         Condo/Co-op|               3|               164501.5|204.54570388793945|                 Great|            Excellent|             5884.0|             2.4|          347.0|          -403.0|              178.0|[3.0,5884.0,2.400...|\n",
            "|   06382|  Connecticut|        CT|Multi-Family (2-4...|               4|              1368750.0| 719.6103630065918|             Excellent|            Excellent|             5884.0|             2.4|          347.0|          -403.0|              178.0|[4.0,5884.0,2.400...|\n",
            "|   06382|  Connecticut|        CT|Single Family Res...|               6|               704550.0| 280.7399139404297|             Excellent|            Excellent|             5884.0|             2.4|          347.0|          -403.0|              178.0|[6.0,5884.0,2.400...|\n",
            "|   06382|  Connecticut|        CT|     All Residential|              -1|               701450.0| 274.3252716064453|             Excellent|            Excellent|             5884.0|             2.4|          347.0|          -403.0|              178.0|[-1.0,5884.0,2.40...|\n",
            "|   08648|   New Jersey|        NJ|Multi-Family (2-4...|               4|              1701250.0|1302.5258560180664|             Excellent|            Excellent|             9470.0|             1.8|           63.0|          -563.0|             -135.0|[4.0,9470.0,1.799...|\n",
            "|   08648|   New Jersey|        NJ|     All Residential|              -1|              1174500.0| 340.6683654785156|             Excellent|                Great|             9470.0|             1.8|           63.0|          -563.0|             -135.0|[-1.0,9470.0,1.79...|\n",
            "|   08648|   New Jersey|        NJ|Single Family Res...|               6|              1057400.0| 350.2774658203125|             Excellent|                Great|             9470.0|             1.8|           63.0|          -563.0|             -135.0|[6.0,9470.0,1.799...|\n",
            "|   08648|   New Jersey|        NJ|           Townhouse|              13|               845700.0|291.39691162109375|             Excellent|                Great|             9470.0|             1.8|           63.0|          -563.0|             -135.0|[13.0,9470.0,1.79...|\n",
            "|   08648|   New Jersey|        NJ|         Condo/Co-op|               3|               291400.0|336.99568939208984|                 Great|            Excellent|             9470.0|             1.8|           63.0|          -563.0|             -135.0|[3.0,9470.0,1.799...|\n",
            "|   11563|     New York|        NY|         Condo/Co-op|               3|               942600.0|1781.3929901123047|             Excellent|            Excellent|             4238.0|            -1.2|         -667.0|           -66.0|              146.0|[3.0,4238.0,-1.20...|\n",
            "+--------+-------------+----------+--------------------+----------------+-----------------------+------------------+----------------------+---------------------+-------------------+----------------+---------------+----------------+-------------------+--------------------+\n",
            "only showing top 20 rows\n",
            "\n"
          ]
        }
      ],
      "source": [
        "from pyspark.ml.linalg import Vectors\n",
        "from pyspark.ml.regression import LinearRegression\n",
        "from pyspark.ml.feature import VectorAssembler\n",
        "\n",
        "vectorAssembler = VectorAssembler(inputCols = ['property_type_id','Median_Income_Delta','Median_Age_Delta','Total_Pop_Delta','Total_Kids_Delta','Total_Married_Delta'], outputCol = 'features')\n",
        "vectored_df = vectorAssembler.transform(df_merged)\n",
        "vectored_df.show()"
      ]
    },
    {
      "cell_type": "code",
      "execution_count": 11,
      "metadata": {
        "id": "YkYKbyFBtdEV"
      },
      "outputs": [],
      "source": [
        "(training_LR, test_LR) = vectored_df.randomSplit([0.8, 0.2], seed = 1234)"
      ]
    },
    {
      "cell_type": "code",
      "execution_count": 12,
      "metadata": {
        "colab": {
          "base_uri": "https://localhost:8080/"
        },
        "id": "2BHrXvc6p7Jm",
        "outputId": "5908496e-c730-49f9-d30d-7d8ff44e0669"
      },
      "outputs": [
        {
          "output_type": "stream",
          "name": "stdout",
          "text": [
            "Coefficients: [-676.4960827406319,34.13767337800901,3974.4451970351406,188.49826386356753,-321.23053432348945,-560.6150857926309]\n",
            "Intercept: 1327896.7402330937\n",
            "Training R squared: 0.045790468623762126\n",
            "Testing MSE:  3320808241852.17\n"
          ]
        }
      ],
      "source": [
        "#Linear Regression for Median Sales Price\n",
        "from pyspark.ml.regression import LinearRegression\n",
        "lr = LinearRegression(featuresCol = 'features', labelCol='median_sale_price_delta', maxIter=10, regParam=0.3, elasticNetParam=0.8)\n",
        "lr_model_sales_price = lr.fit(training_LR)\n",
        "training_predictions=lr_model_sales_price.evaluate(training_LR)\n",
        "test_prediction  = lr_model_sales_price.evaluate(test_LR)\n",
        "\n",
        "print(\"Coefficients: \" + str(lr_model_sales_price.coefficients))\n",
        "print(\"Intercept: \" + str(lr_model_sales_price.intercept))\n",
        "print(\"Training R squared:\", training_predictions.r2)\n",
        "print(\"Testing MSE: \", test_prediction.meanSquaredError)\n"
      ]
    },
    {
      "cell_type": "code",
      "execution_count": 13,
      "metadata": {
        "colab": {
          "base_uri": "https://localhost:8080/"
        },
        "id": "5O1-U9a9p9J7",
        "outputId": "64eb3444-ede4-48d8-be5b-e5ecad3082f5"
      },
      "outputs": [
        {
          "output_type": "stream",
          "name": "stdout",
          "text": [
            "Coefficients: [-676.4960827406319,34.13767337800901,3974.4451970351406,188.49826386356753,-321.23053432348945,-560.6150857926309]\n",
            "Intercept: 1327896.7402330937\n",
            "Training R squared: 0.0008840867663416629\n",
            "Testing MSE:  229402204.74655986\n"
          ]
        }
      ],
      "source": [
        "#Linear Regression for Price Per Square Foot\n",
        "from pyspark.ml.regression import LinearRegression\n",
        "lr = LinearRegression(featuresCol = 'features', labelCol='median_ppsf_delta', maxIter=10, regParam=0.3, elasticNetParam=0.8)\n",
        "lr_model_ppsf = lr.fit(training_LR)\n",
        "training_predictions=lr_model_ppsf.evaluate(training_LR)\n",
        "test_prediction  = lr_model_ppsf.evaluate(test_LR)\n",
        "\n",
        "print(\"Coefficients: \" + str(lr_model_sales_price.coefficients))\n",
        "print(\"Intercept: \" + str(lr_model_sales_price.intercept))\n",
        "print(\"Training R squared:\", training_predictions.r2)\n",
        "print(\"Testing MSE: \", test_prediction.meanSquaredError)"
      ]
    },
    {
      "cell_type": "code",
      "execution_count": 14,
      "metadata": {
        "id": "Ae4CUgAtsxmz"
      },
      "outputs": [],
      "source": [
        "from pyspark.ml.feature import VectorAssembler, StringIndexer\n",
        "vectored_df_1 = vectored_df\n",
        "indexer_sales = StringIndexer(inputCol = 'Investment_Value_Sales', outputCol = 'label')\n",
        "df_features_indexed_sales = indexer_sales.fit(vectored_df_1).transform(vectored_df_1)"
      ]
    },
    {
      "cell_type": "code",
      "execution_count": 15,
      "metadata": {
        "id": "Uf0Lr3aX9Zno"
      },
      "outputs": [],
      "source": [
        "from pyspark.ml.feature import VectorAssembler, StringIndexer\n",
        "vectored_df_2 = vectored_df\n",
        "indexer_ppsf = StringIndexer(inputCol = 'Investment_Value_Ppsf', outputCol = 'label')\n",
        "df_features_indexed_ppsf = indexer_ppsf.fit(vectored_df_2).transform(vectored_df_2)"
      ]
    },
    {
      "cell_type": "code",
      "execution_count": 16,
      "metadata": {
        "id": "f3GjLPIpv6fU"
      },
      "outputs": [],
      "source": [
        "(training_ann_sales, test_ann_sales) = df_features_indexed_sales.randomSplit([0.8, 0.2], seed = 1234)"
      ]
    },
    {
      "cell_type": "code",
      "execution_count": 17,
      "metadata": {
        "colab": {
          "base_uri": "https://localhost:8080/"
        },
        "id": "jL7SlWXWwBNk",
        "outputId": "33ae4ba8-ff67-4220-ec9b-25e4471d61a4"
      },
      "outputs": [
        {
          "output_type": "stream",
          "name": "stdout",
          "text": [
            "+--------+-------------+----------+--------------------+----------------+-----------------------+-------------------+----------------------+---------------------+-------------------+----------------+---------------+----------------+-------------------+--------------------+-----+--------------------+--------------------+----------+\n",
            "|Zip_Code|        state|state_code|       property_type|property_type_id|median_sale_price_delta|  median_ppsf_delta|Investment_Value_Sales|Investment_Value_Ppsf|Median_Income_Delta|Median_Age_Delta|Total_Pop_Delta|Total_Kids_Delta|Total_Married_Delta|            features|label|       rawPrediction|         probability|prediction|\n",
            "+--------+-------------+----------+--------------------+----------------+-----------------------+-------------------+----------------------+---------------------+-------------------+----------------+---------------+----------------+-------------------+--------------------+-----+--------------------+--------------------+----------+\n",
            "|   02053|Massachusetts|        MA|         Condo/Co-op|               3|              2115300.0| 1993.4987182617188|             Excellent|            Excellent|             7251.0|            -0.2|          420.0|          -114.0|               21.0|[3.0,7251.0,-0.20...|  0.0|[2.64895421257875...|[0.91797709476904...|       0.0|\n",
            "|   02053|Massachusetts|        MA|           Townhouse|              13|              1292788.0| 1209.8195877075195|             Excellent|            Excellent|             7251.0|            -0.2|          420.0|          -114.0|               21.0|[13.0,7251.0,-0.2...|  0.0|[2.64895421257875...|[0.91797709476904...|       0.0|\n",
            "|   11563|     New York|        NY|Multi-Family (2-4...|               4|              3175500.0| 1185.9268798828125|             Excellent|            Excellent|             4238.0|            -1.2|         -667.0|           -66.0|              146.0|[4.0,4238.0,-1.20...|  0.0|[2.64895421257875...|[0.91797709476904...|       0.0|\n",
            "|   11722|     New York|        NY|     All Residential|              -1|              2192315.0| 1009.8898315429688|             Excellent|            Excellent|             1547.0|             1.7|        -4017.0|         -1870.0|              -68.0|[-1.0,1547.0,1.70...|  0.0|[2.23292903889028...|[0.87801841884570...|       0.0|\n",
            "|   11722|     New York|        NY|         Condo/Co-op|               3|              1427650.0|  695.3145141601562|             Excellent|            Excellent|             1547.0|             1.7|        -4017.0|         -1870.0|              -68.0|[3.0,1547.0,1.700...|  0.0|[2.23292903889028...|[0.87801841884570...|       0.0|\n",
            "|   11722|     New York|        NY|Single Family Res...|               6|              2540530.0| 1444.4292831420898|             Excellent|            Excellent|             1547.0|             1.7|        -4017.0|         -1870.0|              -68.0|[6.0,1547.0,1.700...|  0.0|[2.23292903889028...|[0.87801841884570...|       0.0|\n",
            "|   11722|     New York|        NY|           Townhouse|              13|              2579500.0|  881.7929534912109|             Excellent|            Excellent|             1547.0|             1.7|        -4017.0|         -1870.0|              -68.0|[13.0,1547.0,1.70...|  0.0|[2.23292903889028...|[0.87801841884570...|       0.0|\n",
            "|   18509| Pennsylvania|        PA|     All Residential|              -1|               336377.5|  98.34552764892578|             Excellent|                Great|             4689.0|            -0.2|         -742.0|          -306.0|               57.0|[-1.0,4689.0,-0.2...|  0.0|[2.64895421257875...|[0.91797709476904...|       0.0|\n",
            "|   19095| Pennsylvania|        PA|           Townhouse|              13|              2000750.0| 1001.2030410766602|             Excellent|            Excellent|            10825.0|            -1.2|         -144.0|           -27.0|              112.0|[13.0,10825.0,-1....|  0.0|[2.64895421257875...|[0.91797709476904...|       0.0|\n",
            "|   19132| Pennsylvania|        PA|Multi-Family (2-4...|               4|               945575.5|  435.1862630844116|             Excellent|            Excellent|            -3538.0|             1.8|        -2535.0|         -1104.0|             -280.0|[4.0,-3538.0,1.79...|  0.0|[2.21917280421792...|[0.86462582980481...|       0.0|\n",
            "|   20158|     Virginia|        VA|           Townhouse|              13|               380450.0| 244.43038940429688|             Excellent|            Excellent|            17614.0|            -0.5|          -89.0|          -177.0|               -2.0|[13.0,17614.0,-0....|  0.0|[2.64895421257875...|[0.91797709476904...|       0.0|\n",
            "|   21783|     Maryland|        MD|Single Family Res...|               6|              1324040.0|  209.3091583251953|             Excellent|                Great|             4130.0|             3.9|         -239.0|          -233.0|              -38.0|[6.0,4130.0,3.900...|  0.0|[2.64895421257875...|[0.91797709476904...|       0.0|\n",
            "|   21783|     Maryland|        MD|           Townhouse|              13|              1421641.5|  688.8358154296875|             Excellent|            Excellent|             4130.0|             3.9|         -239.0|          -233.0|              -38.0|[13.0,4130.0,3.90...|  0.0|[2.64895421257875...|[0.91797709476904...|       0.0|\n",
            "|   22728|     Virginia|        VA|     All Residential|              -1|              2839585.0|  701.1124725341797|             Excellent|            Excellent|            11071.0|             5.1|         -482.0|          -191.0|               28.0|[-1.0,11071.0,5.0...|  0.0|[2.64895421257875...|[0.91797709476904...|       0.0|\n",
            "|   30002|      Georgia|        GA|           Townhouse|              13|              1411797.0|  838.3776397705078|             Excellent|            Excellent|             5917.0|             5.9|         -736.0|          -599.0|              -61.0|[13.0,5917.0,5.90...|  0.0|[2.64895421257875...|[0.91797709476904...|       0.0|\n",
            "|   32773|      Florida|        FL|Multi-Family (2-4...|               4|              1063935.0|  519.7333354949951|             Excellent|            Excellent|            -3068.0|            -1.5|         3298.0|           536.0|             -138.0|[4.0,-3068.0,-1.5...|  0.0|[2.87773322863419...|[0.93422947954290...|       0.0|\n",
            "|   32812|      Florida|        FL|Single Family Res...|               6|              1896497.5| 1045.5095291137695|             Excellent|            Excellent|             1542.0|             3.6|        -1874.0|         -2415.0|             -182.0|[6.0,1542.0,3.599...|  0.0|[2.32317114195811...|[0.88732359774750...|       0.0|\n",
            "|   32812|      Florida|        FL|           Townhouse|              13|              2234353.0| 1221.5067291259766|             Excellent|            Excellent|             1542.0|             3.6|        -1874.0|         -2415.0|             -182.0|[13.0,1542.0,3.59...|  0.0|[2.32317114195811...|[0.88732359774750...|       0.0|\n",
            "|   33174|      Florida|        FL|Single Family Res...|               6|              2320100.5|  1610.981788635254|             Excellent|            Excellent|             9613.0|            -0.4|         5068.0|          -334.0|              161.0|[6.0,9613.0,-0.40...|  0.0|[2.64895421257875...|[0.91797709476904...|       0.0|\n",
            "|   35640|      Alabama|        AL|           Townhouse|              13|              -487920.0|-416.54979705810547|                   Bad|                  Bad|             1236.0|             3.5|          176.0|          -369.0|               28.0|[13.0,1236.0,3.5,...|  1.0|[2.64895421257875...|[0.91797709476904...|       0.0|\n",
            "+--------+-------------+----------+--------------------+----------------+-----------------------+-------------------+----------------------+---------------------+-------------------+----------------+---------------+----------------+-------------------+--------------------+-----+--------------------+--------------------+----------+\n",
            "only showing top 20 rows\n",
            "\n",
            "0.9006027656305401\n"
          ]
        }
      ],
      "source": [
        "from pyspark.ml.classification import MultilayerPerceptronClassifier\n",
        "from pyspark.ml.evaluation import MulticlassClassificationEvaluator\n",
        "\n",
        "mlp_sales = MultilayerPerceptronClassifier(layers = [6,5,5,4], seed = 1)\n",
        "\n",
        "mlp_model_sales = mlp_sales.fit(training_ann_sales)\n",
        "\n",
        "df_pred_sales = mlp_model_sales.transform(test_ann_sales)\n",
        "df_pred_sales = df_pred_sales#.select('features','label','rawPrediction','probability','prediction')\n",
        "df_pred_sales.show()\n",
        "\n",
        "evaluator = MulticlassClassificationEvaluator(labelCol = 'label', predictionCol = 'prediction', metricName = 'accuracy')\n",
        "mlpacc_sales = evaluator.evaluate(df_pred_sales)\n",
        "print(mlpacc_sales)"
      ]
    },
    {
      "cell_type": "code",
      "execution_count": 18,
      "metadata": {
        "id": "ld9mOBSAxAFa"
      },
      "outputs": [],
      "source": [
        "(training_ann_ppsf, test_ann_ppsf) = df_features_indexed_ppsf.randomSplit([0.8, 0.2], seed = 1234)"
      ]
    },
    {
      "cell_type": "code",
      "execution_count": 19,
      "metadata": {
        "colab": {
          "base_uri": "https://localhost:8080/"
        },
        "id": "CJd0IQAPwCA0",
        "outputId": "94a1b91e-4610-4a8b-e6e9-a4a6fcf11b75"
      },
      "outputs": [
        {
          "output_type": "stream",
          "name": "stdout",
          "text": [
            "+-------------------------------------------------------+-----+---------------------------------------------------------------------------------+-----------------------------------------------------------------------------------+----------+\n",
            "|features                                               |label|rawPrediction                                                                    |probability                                                                        |prediction|\n",
            "+-------------------------------------------------------+-----+---------------------------------------------------------------------------------+-----------------------------------------------------------------------------------+----------+\n",
            "|[3.0,7251.0,-0.20000000298023224,420.0,-114.0,21.0]    |0.0  |[2.6057310350704173,-0.43388355837292647,-0.8545351858950591,-1.9334706507141357]|[0.9174676763219969,0.04390388249525473,0.02882811505605524,0.009800326126693166]  |0.0       |\n",
            "|[13.0,7251.0,-0.20000000298023224,420.0,-114.0,21.0]   |0.0  |[2.6057310350704173,-0.43388355837292647,-0.8545351858950591,-1.9334706507141357]|[0.9174676763219969,0.04390388249525473,0.02882811505605524,0.009800326126693166]  |0.0       |\n",
            "|[4.0,4238.0,-1.2000000476837158,-667.0,-66.0,146.0]    |0.0  |[2.6057310350704173,-0.43388355837292647,-0.8545351858950591,-1.9334706507141357]|[0.9174676763219969,0.04390388249525473,0.02882811505605524,0.009800326126693166]  |0.0       |\n",
            "|[-1.0,1547.0,1.7000000476837158,-4017.0,-1870.0,-68.0] |0.0  |[2.1773524035635363,-0.20754047553876798,-1.0570304115155722,-1.9776326047539075]|[0.8717108570974608,0.08028356290500838,0.03433190057775261,0.013673679419778383]  |0.0       |\n",
            "|[3.0,1547.0,1.7000000476837158,-4017.0,-1870.0,-68.0]  |0.0  |[2.1773524035635363,-0.20754047553876798,-1.0570304115155722,-1.9776326047539075]|[0.8717108570974608,0.08028356290500838,0.03433190057775261,0.013673679419778383]  |0.0       |\n",
            "|[6.0,1547.0,1.7000000476837158,-4017.0,-1870.0,-68.0]  |0.0  |[2.1773524035635363,-0.20754047553876798,-1.0570304115155722,-1.9776326047539075]|[0.8717108570974608,0.08028356290500838,0.03433190057775261,0.013673679419778383]  |0.0       |\n",
            "|[13.0,1547.0,1.7000000476837158,-4017.0,-1870.0,-68.0] |0.0  |[2.1773524035635363,-0.20754047553876798,-1.0570304115155722,-1.9776326047539075]|[0.8717108570974608,0.08028356290500838,0.03433190057775261,0.013673679419778383]  |0.0       |\n",
            "|[-1.0,4689.0,-0.20000000298023224,-742.0,-306.0,57.0]  |2.0  |[2.6057310350704173,-0.43388355837292647,-0.8545351858950591,-1.9334706507141357]|[0.9174676763219969,0.04390388249525473,0.02882811505605524,0.009800326126693166]  |0.0       |\n",
            "|[13.0,10825.0,-1.2000000476837158,-144.0,-27.0,112.0]  |0.0  |[2.6057310350704173,-0.43388355837292647,-0.8545351858950591,-1.9334706507141357]|[0.9174676763219969,0.04390388249525473,0.02882811505605524,0.009800326126693166]  |0.0       |\n",
            "|[4.0,-3538.0,1.7999999523162842,-2535.0,-1104.0,-280.0]|0.0  |[2.2866439775000944,-0.11268828774184136,-0.758332723300287,-2.2882442368195655] |[0.8705618810357714,0.07902834441753442,0.04143650032027541,0.008973274226418925]  |0.0       |\n",
            "|[13.0,17614.0,-0.5,-89.0,-177.0,-2.0]                  |0.0  |[2.6057310350704173,-0.43388355837292647,-0.8545351858950591,-1.9334706507141357]|[0.9174676763219969,0.04390388249525473,0.02882811505605524,0.009800326126693166]  |0.0       |\n",
            "|[6.0,4130.0,3.9000000953674316,-239.0,-233.0,-38.0]    |2.0  |[2.6057310350704173,-0.43388355837292647,-0.8545351858950591,-1.9334706507141357]|[0.9174676763219969,0.04390388249525473,0.02882811505605524,0.009800326126693166]  |0.0       |\n",
            "|[13.0,4130.0,3.9000000953674316,-239.0,-233.0,-38.0]   |0.0  |[2.6057310350704173,-0.43388355837292647,-0.8545351858950591,-1.9334706507141357]|[0.9174676763219969,0.04390388249525473,0.02882811505605524,0.009800326126693166]  |0.0       |\n",
            "|[-1.0,11071.0,5.099999904632568,-482.0,-191.0,28.0]    |0.0  |[2.6057310350704173,-0.43388355837292647,-0.8545351858950591,-1.9334706507141357]|[0.9174676763219969,0.04390388249525473,0.02882811505605524,0.009800326126693166]  |0.0       |\n",
            "|[13.0,5917.0,5.900000095367432,-736.0,-599.0,-61.0]    |0.0  |[2.6057310350704173,-0.43388355837292647,-0.8545351858950591,-1.9334706507141357]|[0.9174676763219969,0.04390388249525473,0.02882811505605524,0.009800326126693166]  |0.0       |\n",
            "|[4.0,-3068.0,-1.5,3298.0,536.0,-138.0]                 |0.0  |[2.8298945273724567,-0.6124806744263183,-0.9060906110803416,-2.314587576412875]  |[0.9419124711822666,0.030130475974983174,0.022464296209953858,0.005492756632796254]|0.0       |\n",
            "|[6.0,1542.0,3.5999999046325684,-1874.0,-2415.0,-182.0] |0.0  |[2.3133507101977426,-0.3974758748032855,-0.8822026128734091,-1.8090583952276353] |[0.8899717892915896,0.05916695419075463,0.03643888383568823,0.014422372681967598]  |0.0       |\n",
            "|[13.0,1542.0,3.5999999046325684,-1874.0,-2415.0,-182.0]|0.0  |[2.3133507101977426,-0.3974758748032855,-0.8822026128734091,-1.8090583952276353] |[0.8899717892915896,0.05916695419075463,0.03643888383568823,0.014422372681967598]  |0.0       |\n",
            "|[6.0,9613.0,-0.4000000059604645,5068.0,-334.0,161.0]   |0.0  |[2.6057310350704173,-0.43388355837292647,-0.8545351858950591,-1.9334706507141357]|[0.9174676763219969,0.04390388249525473,0.02882811505605524,0.009800326126693166]  |0.0       |\n",
            "|[13.0,1236.0,3.5,176.0,-369.0,28.0]                    |1.0  |[2.6057310350704173,-0.43388355837292647,-0.8545351858950591,-1.9334706507141357]|[0.9174676763219969,0.04390388249525473,0.02882811505605524,0.009800326126693166]  |0.0       |\n",
            "+-------------------------------------------------------+-----+---------------------------------------------------------------------------------+-----------------------------------------------------------------------------------+----------+\n",
            "only showing top 20 rows\n",
            "\n",
            "0.8870109916085569\n"
          ]
        }
      ],
      "source": [
        "from pyspark.ml.classification import MultilayerPerceptronClassifier\n",
        "from pyspark.ml.evaluation import MulticlassClassificationEvaluator\n",
        "\n",
        "mlp_ppsf = MultilayerPerceptronClassifier(layers = [6,5,5,4], seed = 1)\n",
        "\n",
        "mlp_model_ppsf = mlp_ppsf.fit(training_ann_ppsf)\n",
        "\n",
        "df_pred_ppsf = mlp_model_ppsf.transform(test_ann_ppsf)\n",
        "df_pred_ppsf = df_pred_ppsf.select('features','label','rawPrediction','probability','prediction')\n",
        "df_pred_ppsf.show(truncate=False)\n",
        "\n",
        "evaluator = MulticlassClassificationEvaluator(labelCol = 'label', predictionCol = 'prediction', metricName = 'accuracy')\n",
        "mlpacc = evaluator.evaluate(df_pred_ppsf)\n",
        "print(mlpacc)"
      ]
    },
    {
      "cell_type": "code",
      "execution_count": 20,
      "metadata": {
        "colab": {
          "base_uri": "https://localhost:8080/"
        },
        "id": "vjHIRnw40N0F",
        "outputId": "de362302-dfab-40d9-c4e4-8e5483478e03"
      },
      "outputs": [
        {
          "output_type": "stream",
          "name": "stdout",
          "text": [
            "+--------+---------------+---------------+--------------+---------------+------------------+---------------+---------------+--------------+---------------+------------------+\n",
            "|Zip_Code|Median_Inc_2015|Median_Age_2015|Total_Pop_2015|Total_Kids_2015|Total_Married_2015|Median_Inc_2018|Median_Age_2018|Total_Pop_2018|Total_Kids_2018|Total_Married_2018|\n",
            "+--------+---------------+---------------+--------------+---------------+------------------+---------------+---------------+--------------+---------------+------------------+\n",
            "|   02053|         110241|           41.7|         13069|           3275|                87|         119450|           42.6|         13244|           3279|               147|\n",
            "|   02090|         135884|           45.8|         15094|           4115|               151|         155887|           44.9|         15880|           4134|               172|\n",
            "|   03442|          63958|           35.8|          1424|            447|                13|          61818|           38.2|          1407|            302|                68|\n",
            "|   03904|          61934|           44.7|          7963|           1333|               157|          69702|           41.2|          7860|           1391|               169|\n",
            "|   04438|          38594|           41.3|          1097|            213|                69|          44375|           42.8|          1001|            137|                80|\n",
            "|   06382|          58953|           43.0|         11727|           2037|               257|          68598|           43.2|         11971|           2062|               268|\n",
            "|   06518|          76759|           32.0|         19431|           2560|               374|          76938|           30.6|         19488|           2397|               267|\n",
            "|   07820|     -666666666|   -666666666.0|            41|              0|                 0|     -666666666|           31.6|            36|              0|                 0|\n",
            "|   08648|          85090|           39.2|         32315|           6411|               415|         102633|           39.9|         31725|           5759|               335|\n",
            "|   11563|          85194|           43.0|         22985|           4817|               352|          97169|           43.9|         21965|           4393|               318|\n",
            "|   11722|          66570|           33.6|         35855|           9299|               795|          69360|           34.8|         32524|           7821|               566|\n",
            "|   12529|          62143|           49.9|          2644|            490|               105|          69018|           49.1|          2730|            442|               109|\n",
            "|   12847|          62917|           53.3|           389|             52|                 0|          59375|           54.0|           413|             72|                 4|\n",
            "|   13865|          60399|           45.1|          6350|           1344|               170|          62629|           44.2|          6135|           1439|               163|\n",
            "|   14204|          26269|           42.3|          8934|           2086|               170|          23886|           42.9|          8649|           1899|               122|\n",
            "|   14838|          55057|           42.0|          2064|            480|                65|          60368|           45.6|          1786|            359|               103|\n",
            "|   15555|          27188|           32.9|           115|             20|                23|     -666666666|           47.5|           100|             14|                26|\n",
            "|   15634|          58125|           35.1|           573|            168|                 0|          16250|           51.1|           235|             18|                 0|\n",
            "|   16250|          20417|           47.1|           268|             60|                 4|          21250|           33.3|           571|            162|                31|\n",
            "|   16504|          40915|           38.7|         16417|           3427|               431|          41281|           36.9|         15650|           3411|               458|\n",
            "+--------+---------------+---------------+--------------+---------------+------------------+---------------+---------------+--------------+---------------+------------------+\n",
            "only showing top 20 rows\n",
            "\n"
          ]
        }
      ],
      "source": [
        "## https://api.census.gov/data/2020/acs/acs5/variables.html lists all the possible variable keys for the API Request\n",
        "## Below provides a DF with the ZIP Code and the Median household income.\n",
        "## Need to initialize spark session first\n",
        "##CODE\n",
        "from pyspark.sql.types import StructType, StructField, StringType, DoubleType\n",
        "import requests\n",
        "from pyspark.sql.types import *\n",
        "from pyspark.sql.functions import from_json\n",
        "import pandas as pd\n",
        "from pyspark.sql.functions import col\n",
        "\n",
        "start_year = 2015\n",
        "end_year = 2018\n",
        "variables = \"B19013_001E,B01002_001E,B01003_001E,B09001_001E,B11009_002E\"\n",
        "year = start_year\n",
        "key  = '46d133e794f5998e012ea4e0d83d6fb6085136b0'\n",
        "geography = 'zip%20code%20tabulation%20area'\n",
        "\n",
        "call = 1\n",
        "\n",
        "while call < 3:\n",
        "  census_API_call = requests.get(f'https://api.census.gov/data/{year}/acs/acs5?get={variables}&for={geography}:*&key={key}')\n",
        "  census_JSON = census_API_call.json()\n",
        "  df = pd.DataFrame(census_JSON[1:], columns = census_JSON[0])\n",
        "  #print(df)\n",
        "  schema = StructType([ StructField(\"B19013_001E\", StringType(), True), StructField(\"B01002_001E\", StringType(), True), StructField(\"B01003_001E\", StringType(), True), StructField(\"B09001_001E\", StringType(), True), StructField(\"B11009_002E\", StringType(), True),StructField(\"State\", StringType(), True),StructField(\"zip code tabulation area\", StringType(), True)])\n",
        "  sparkDF = spark.createDataFrame(df,schema = schema)\n",
        "  #sparkDF.show()\n",
        "  column_title_median_income = f\"Median_Inc_{year}\"\n",
        "  column_title_median_age = f\"Median_Age_{year}\"\n",
        "  column_title_total_pop = f\"Total_Pop_{year}\"\n",
        "  column_title_num_children = f\"Total_Kids_{year}\"\n",
        "  column_title_married_households = f\"Total_Married_{year}\"\n",
        "\n",
        "  if year == start_year:\n",
        "    real_df = sparkDF.select(col(\"zip code tabulation area\").alias(\"Zip_Code\"),col(\"B19013_001E\").alias(column_title_median_income)\\\n",
        "                                ,col(\"B01002_001E\").alias(column_title_median_age)\n",
        "                                ,col(\"B01003_001E\").alias(column_title_total_pop)\n",
        "                                ,col(\"B09001_001E\").alias(column_title_num_children)\n",
        "                                ,col(\"B11009_002E\").alias(column_title_married_households))\n",
        "  \n",
        "  else:\n",
        "    real_df = real_df.join(sparkDF,sparkDF['zip code tabulation area']== real_df.Zip_Code,'left').select(real_df [\"*\"],col(\"B19013_001E\").alias(column_title_median_income)\\\n",
        "                                ,col(\"B01002_001E\").alias(column_title_median_age)\n",
        "                                ,col(\"B01003_001E\").alias(column_title_total_pop)\n",
        "                                ,col(\"B09001_001E\").alias(column_title_num_children)\n",
        "                                ,col(\"B11009_002E\").alias(column_title_married_households))\n",
        "  \n",
        "  #print(year)\n",
        "  year = end_year\n",
        "  call += 1\n",
        "\n",
        "real_df.show()\n"
      ]
    },
    {
      "cell_type": "code",
      "execution_count": 21,
      "metadata": {
        "colab": {
          "base_uri": "https://localhost:8080/"
        },
        "id": "KAPfMzVo0T_i",
        "outputId": "c6637ed2-1a05-4456-a895-31d4898e4cf0"
      },
      "outputs": [
        {
          "output_type": "stream",
          "name": "stdout",
          "text": [
            "+---------------+------------------+---------------+--------------+---------------+------------------+------------------+---------------+--------------+---------------+------------------+\n",
            "|Zip_Code_Census|Median_Income_2015|Median_Age_2015|Total_Pop_2015|Total_Kids_2015|Total_Married_2015|Median_Income_2018|Median_Age_2018|Total_Pop_2018|Total_Kids_2018|Total_Married_2018|\n",
            "+---------------+------------------+---------------+--------------+---------------+------------------+------------------+---------------+--------------+---------------+------------------+\n",
            "|          02053|            110241|           41.7|         13069|           3275|                87|            119450|           42.6|         13244|           3279|               147|\n",
            "|          02090|            135884|           45.8|         15094|           4115|               151|            155887|           44.9|         15880|           4134|               172|\n",
            "|          03442|             63958|           35.8|          1424|            447|                13|             61818|           38.2|          1407|            302|                68|\n",
            "|          03904|             61934|           44.7|          7963|           1333|               157|             69702|           41.2|          7860|           1391|               169|\n",
            "|          04438|             38594|           41.3|          1097|            213|                69|             44375|           42.8|          1001|            137|                80|\n",
            "|          06382|             58953|           43.0|         11727|           2037|               257|             68598|           43.2|         11971|           2062|               268|\n",
            "|          06518|             76759|           32.0|         19431|           2560|               374|             76938|           30.6|         19488|           2397|               267|\n",
            "|          08648|             85090|           39.2|         32315|           6411|               415|            102633|           39.9|         31725|           5759|               335|\n",
            "|          11563|             85194|           43.0|         22985|           4817|               352|             97169|           43.9|         21965|           4393|               318|\n",
            "|          11722|             66570|           33.6|         35855|           9299|               795|             69360|           34.8|         32524|           7821|               566|\n",
            "|          12529|             62143|           49.9|          2644|            490|               105|             69018|           49.1|          2730|            442|               109|\n",
            "|          12847|             62917|           53.3|           389|             52|                 0|             59375|           54.0|           413|             72|                 4|\n",
            "|          13865|             60399|           45.1|          6350|           1344|               170|             62629|           44.2|          6135|           1439|               163|\n",
            "|          14204|             26269|           42.3|          8934|           2086|               170|             23886|           42.9|          8649|           1899|               122|\n",
            "|          14838|             55057|           42.0|          2064|            480|                65|             60368|           45.6|          1786|            359|               103|\n",
            "|          15634|             58125|           35.1|           573|            168|                 0|             16250|           51.1|           235|             18|                 0|\n",
            "|          16250|             20417|           47.1|           268|             60|                 4|             21250|           33.3|           571|            162|                31|\n",
            "|          16504|             40915|           38.7|         16417|           3427|               431|             41281|           36.9|         15650|           3411|               458|\n",
            "|          17401|             25506|           28.1|         18214|           5897|               806|             26715|           28.8|         17766|           5473|               685|\n",
            "|          18509|             40855|           35.3|         13417|           2486|               233|             47852|           36.4|         13744|           2503|               370|\n",
            "+---------------+------------------+---------------+--------------+---------------+------------------+------------------+---------------+--------------+---------------+------------------+\n",
            "only showing top 20 rows\n",
            "\n"
          ]
        }
      ],
      "source": [
        "from pyspark.sql.functions import countDistinct, col\n",
        "census_real = real_df.withColumnRenamed('Zip_Code', 'Zip_Code_Census')\\\n",
        ".withColumnRenamed('Median_Inc_2015', 'Median_Income_2015').withColumnRenamed('Median_Inc_2018', 'Median_Income_2018')\n",
        "census_real_3 =census_real.where(col('Median_Income_2015') != -666666666)\\\n",
        ".where(col('Median_Age_2015') != -666666666)\\\n",
        ".where(col('Total_Pop_2015') != -666666666)\\\n",
        ".where(col('Total_Kids_2015') != -666666666)\\\n",
        ".where(col('Total_Married_2015') != -666666666)\\\n",
        ".where(col('Median_Income_2018') != -666666666)\\\n",
        ".where(col('Median_Age_2018') != -666666666)\\\n",
        ".where(col('Total_Pop_2018') != -666666666)\\\n",
        ".where(col('Total_Kids_2018') != -666666666)\\\n",
        ".where(col('Total_Married_2018') != -666666666)\n",
        "\n",
        "census_data_raw_real = census_real_3.dropna()\n",
        "census_data_raw_real.show()\n",
        "#census_real_3.show()"
      ]
    },
    {
      "cell_type": "code",
      "execution_count": 22,
      "metadata": {
        "colab": {
          "base_uri": "https://localhost:8080/"
        },
        "id": "lyw7Vg0j0ent",
        "outputId": "e04236f2-72e3-4510-9d99-454a9309c673"
      },
      "outputs": [
        {
          "output_type": "stream",
          "name": "stdout",
          "text": [
            "+---------------+-------------------+----------------+---------------+----------------+-------------------+\n",
            "|Zip_Code_Census|Median_Income_Delta|Median_Age_Delta|Total_Pop_Delta|Total_Kids_Delta|Total_Married_Delta|\n",
            "+---------------+-------------------+----------------+---------------+----------------+-------------------+\n",
            "|          02053|             9209.0|             0.9|          175.0|             4.0|               60.0|\n",
            "|          02090|            20003.0|            -0.9|          786.0|            19.0|               21.0|\n",
            "|          03442|            -2140.0|             2.4|          -17.0|          -145.0|               55.0|\n",
            "|          03904|             7768.0|            -3.5|         -103.0|            58.0|               12.0|\n",
            "|          04438|             5781.0|             1.5|          -96.0|           -76.0|               11.0|\n",
            "|          06382|             9645.0|             0.2|          244.0|            25.0|               11.0|\n",
            "|          06518|              179.0|            -1.4|           57.0|          -163.0|             -107.0|\n",
            "|          08648|            17543.0|             0.7|         -590.0|          -652.0|              -80.0|\n",
            "|          11563|            11975.0|             0.9|        -1020.0|          -424.0|              -34.0|\n",
            "|          11722|             2790.0|             1.2|        -3331.0|         -1478.0|             -229.0|\n",
            "|          12529|             6875.0|            -0.8|           86.0|           -48.0|                4.0|\n",
            "|          12847|            -3542.0|             0.7|           24.0|            20.0|                4.0|\n",
            "|          13865|             2230.0|            -0.9|         -215.0|            95.0|               -7.0|\n",
            "|          14204|            -2383.0|             0.6|         -285.0|          -187.0|              -48.0|\n",
            "|          14838|             5311.0|             3.6|         -278.0|          -121.0|               38.0|\n",
            "|          15634|           -41875.0|            16.0|         -338.0|          -150.0|                0.0|\n",
            "|          16250|              833.0|           -13.8|          303.0|           102.0|               27.0|\n",
            "|          16504|              366.0|            -1.8|         -767.0|           -16.0|               27.0|\n",
            "|          17401|             1209.0|             0.7|         -448.0|          -424.0|             -121.0|\n",
            "|          18509|             6997.0|             1.1|          327.0|            17.0|              137.0|\n",
            "+---------------+-------------------+----------------+---------------+----------------+-------------------+\n",
            "only showing top 20 rows\n",
            "\n",
            "root\n",
            " |-- Zip_Code_Census: string (nullable = true)\n",
            " |-- Median_Income_Delta: float (nullable = true)\n",
            " |-- Median_Age_Delta: float (nullable = true)\n",
            " |-- Total_Pop_Delta: float (nullable = true)\n",
            " |-- Total_Kids_Delta: float (nullable = true)\n",
            " |-- Total_Married_Delta: float (nullable = true)\n",
            "\n"
          ]
        }
      ],
      "source": [
        "census_data_real_transorm_1 = census_data_raw_real.withColumn('Median_Income_Delta', (census_data_raw_real.Median_Income_2018 - census_data_raw_real.Median_Income_2015))\\\n",
        ".withColumn('Median_Age_Delta', (census_data_raw_real.Median_Age_2018 - census_data_raw_real.Median_Age_2015))\\\n",
        ".withColumn('Total_Pop_Delta', (census_data_raw_real.Total_Pop_2018 - census_data_raw_real.Total_Pop_2015))\\\n",
        ".withColumn('Total_Kids_Delta', (census_data_raw_real.Total_Kids_2018 - census_data_raw_real.Total_Kids_2015))\\\n",
        ".withColumn('Total_Married_Delta', (census_data_raw_real.Total_Married_2018 - census_data_raw_real.Total_Married_2015))\n",
        "\n",
        "census_data_deltas_real = census_data_real_transorm_1.select(census_data_real_transorm_1.Zip_Code_Census,census_data_real_transorm_1.Median_Income_Delta.cast('float'),census_data_real_transorm_1.Median_Age_Delta.cast('float'),census_data_real_transorm_1.Total_Pop_Delta.cast('float'),census_data_real_transorm_1.Total_Kids_Delta.cast('float'),census_data_real_transorm_1.Total_Married_Delta.cast('float'))\n",
        "census_data_deltas_real.show()\n",
        "census_data_deltas_real.printSchema()"
      ]
    },
    {
      "cell_type": "code",
      "execution_count": null,
      "metadata": {
        "colab": {
          "base_uri": "https://localhost:8080/"
        },
        "id": "KpciYRM02eKs",
        "outputId": "24bf82e1-0ecd-416a-8957-f261b6da990a"
      },
      "outputs": [
        {
          "output_type": "stream",
          "name": "stdout",
          "text": [
            "+--------+----------------+--------------------+\n",
            "|Zip_Code|property_type_id|       property_type|\n",
            "+--------+----------------+--------------------+\n",
            "|   02053|               4|Multi-Family (2-4...|\n",
            "|   02053|               3|         Condo/Co-op|\n",
            "|   02053|               6|Single Family Res...|\n",
            "|   02053|              -1|     All Residential|\n",
            "|   02053|              13|           Townhouse|\n",
            "|   02090|               6|Single Family Res...|\n",
            "|   02090|              -1|     All Residential|\n",
            "|   03442|               3|         Condo/Co-op|\n",
            "|   03442|              -1|     All Residential|\n",
            "|   03442|               6|Single Family Res...|\n",
            "|   06382|               3|         Condo/Co-op|\n",
            "|   06382|               4|Multi-Family (2-4...|\n",
            "|   06382|               6|Single Family Res...|\n",
            "|   06382|              -1|     All Residential|\n",
            "|   08648|               4|Multi-Family (2-4...|\n",
            "|   08648|              -1|     All Residential|\n",
            "|   08648|               6|Single Family Res...|\n",
            "|   08648|              13|           Townhouse|\n",
            "|   08648|               3|         Condo/Co-op|\n",
            "|   11563|               3|         Condo/Co-op|\n",
            "+--------+----------------+--------------------+\n",
            "only showing top 20 rows\n",
            "\n"
          ]
        }
      ],
      "source": [
        "property_type_id = df_merged.select('Zip_Code',\"property_type_id\",'property_type').distinct()\n",
        "property_type_id.show()"
      ]
    },
    {
      "cell_type": "code",
      "execution_count": 29,
      "metadata": {
        "id": "IoL23P_K4g3f",
        "colab": {
          "base_uri": "https://localhost:8080/"
        },
        "outputId": "d4d000f5-ab57-43cf-d605-90a15070399a"
      },
      "outputs": [
        {
          "output_type": "stream",
          "name": "stdout",
          "text": [
            "+---------------+-------------------+----------------+---------------+----------------+-------------------+--------+----------------+--------------------+\n",
            "|Zip_Code_Census|Median_Income_Delta|Median_Age_Delta|Total_Pop_Delta|Total_Kids_Delta|Total_Married_Delta|Zip_Code|property_type_id|       property_type|\n",
            "+---------------+-------------------+----------------+---------------+----------------+-------------------+--------+----------------+--------------------+\n",
            "|          02053|             9209.0|             0.9|          175.0|             4.0|               60.0|   02053|               4|Multi-Family (2-4...|\n",
            "|          02053|             9209.0|             0.9|          175.0|             4.0|               60.0|   02053|               3|         Condo/Co-op|\n",
            "|          02053|             9209.0|             0.9|          175.0|             4.0|               60.0|   02053|               6|Single Family Res...|\n",
            "|          02053|             9209.0|             0.9|          175.0|             4.0|               60.0|   02053|              -1|     All Residential|\n",
            "|          02053|             9209.0|             0.9|          175.0|             4.0|               60.0|   02053|              13|           Townhouse|\n",
            "|          02090|            20003.0|            -0.9|          786.0|            19.0|               21.0|   02090|               6|Single Family Res...|\n",
            "|          02090|            20003.0|            -0.9|          786.0|            19.0|               21.0|   02090|              -1|     All Residential|\n",
            "|          03442|            -2140.0|             2.4|          -17.0|          -145.0|               55.0|   03442|               3|         Condo/Co-op|\n",
            "|          03442|            -2140.0|             2.4|          -17.0|          -145.0|               55.0|   03442|              -1|     All Residential|\n",
            "|          03442|            -2140.0|             2.4|          -17.0|          -145.0|               55.0|   03442|               6|Single Family Res...|\n",
            "|          06382|             9645.0|             0.2|          244.0|            25.0|               11.0|   06382|               3|         Condo/Co-op|\n",
            "|          06382|             9645.0|             0.2|          244.0|            25.0|               11.0|   06382|               4|Multi-Family (2-4...|\n",
            "|          06382|             9645.0|             0.2|          244.0|            25.0|               11.0|   06382|               6|Single Family Res...|\n",
            "|          06382|             9645.0|             0.2|          244.0|            25.0|               11.0|   06382|              -1|     All Residential|\n",
            "|          08648|            17543.0|             0.7|         -590.0|          -652.0|              -80.0|   08648|               4|Multi-Family (2-4...|\n",
            "|          08648|            17543.0|             0.7|         -590.0|          -652.0|              -80.0|   08648|              -1|     All Residential|\n",
            "|          08648|            17543.0|             0.7|         -590.0|          -652.0|              -80.0|   08648|               6|Single Family Res...|\n",
            "|          08648|            17543.0|             0.7|         -590.0|          -652.0|              -80.0|   08648|              13|           Townhouse|\n",
            "|          08648|            17543.0|             0.7|         -590.0|          -652.0|              -80.0|   08648|               3|         Condo/Co-op|\n",
            "|          11563|            11975.0|             0.9|        -1020.0|          -424.0|              -34.0|   11563|               3|         Condo/Co-op|\n",
            "+---------------+-------------------+----------------+---------------+----------------+-------------------+--------+----------------+--------------------+\n",
            "only showing top 20 rows\n",
            "\n"
          ]
        }
      ],
      "source": [
        "from pyspark.sql.functions import col,lit\n",
        "prop_type_id = '6'\n",
        "model_input = census_data_deltas_real.join(property_type_id,property_type_id.Zip_Code ==census_data_deltas_real.Zip_Code_Census,'inner')\n",
        "model_input.show()"
      ]
    },
    {
      "cell_type": "code",
      "source": [
        "from pyspark.ml.feature import VectorAssembler\n",
        "vectorAssembler = VectorAssembler(inputCols = ['property_type_id','Median_Income_Delta','Median_Age_Delta','Total_Pop_Delta','Total_Kids_Delta','Total_Married_Delta'], outputCol = 'features')\n",
        "vectored_df_real = vectorAssembler.transform(model_input)"
      ],
      "metadata": {
        "id": "y-Wo-oVoFdlt"
      },
      "execution_count": 28,
      "outputs": []
    },
    {
      "cell_type": "code",
      "execution_count": 27,
      "metadata": {
        "colab": {
          "base_uri": "https://localhost:8080/"
        },
        "id": "FD2D5j3XBp1J",
        "outputId": "3f5e4f49-1f45-4f9f-a8fa-8044cadb595b"
      },
      "outputs": [
        {
          "output_type": "stream",
          "name": "stdout",
          "text": [
            "+---------------+-------------------+----------------+---------------+----------------+-------------------+--------+----------------+--------------------+--------------------+--------------------+--------------------+----------+\n",
            "|Zip_Code_Census|Median_Income_Delta|Median_Age_Delta|Total_Pop_Delta|Total_Kids_Delta|Total_Married_Delta|Zip_Code|property_type_id|       property_type|            features|       rawPrediction|         probability|prediction|\n",
            "+---------------+-------------------+----------------+---------------+----------------+-------------------+--------+----------------+--------------------+--------------------+--------------------+--------------------+----------+\n",
            "|          02053|             9209.0|             0.9|          175.0|             4.0|               60.0|   02053|               4|Multi-Family (2-4...|[4.0,9209.0,0.899...|[2.64895421257875...|[0.91797709476904...|       0.0|\n",
            "|          02053|             9209.0|             0.9|          175.0|             4.0|               60.0|   02053|               3|         Condo/Co-op|[3.0,9209.0,0.899...|[2.64895421257875...|[0.91797709476904...|       0.0|\n",
            "|          02053|             9209.0|             0.9|          175.0|             4.0|               60.0|   02053|               6|Single Family Res...|[6.0,9209.0,0.899...|[2.64895421257875...|[0.91797709476904...|       0.0|\n",
            "|          02053|             9209.0|             0.9|          175.0|             4.0|               60.0|   02053|              -1|     All Residential|[-1.0,9209.0,0.89...|[2.64895421257875...|[0.91797709476904...|       0.0|\n",
            "|          02053|             9209.0|             0.9|          175.0|             4.0|               60.0|   02053|              13|           Townhouse|[13.0,9209.0,0.89...|[2.64895421257875...|[0.91797709476904...|       0.0|\n",
            "|          02090|            20003.0|            -0.9|          786.0|            19.0|               21.0|   02090|               6|Single Family Res...|[6.0,20003.0,-0.8...|[2.64895421257875...|[0.91797709476904...|       0.0|\n",
            "|          02090|            20003.0|            -0.9|          786.0|            19.0|               21.0|   02090|              -1|     All Residential|[-1.0,20003.0,-0....|[2.64895421257875...|[0.91797709476904...|       0.0|\n",
            "|          03442|            -2140.0|             2.4|          -17.0|          -145.0|               55.0|   03442|               3|         Condo/Co-op|[3.0,-2140.0,2.40...|[2.21917280421792...|[0.86462582980481...|       0.0|\n",
            "|          03442|            -2140.0|             2.4|          -17.0|          -145.0|               55.0|   03442|              -1|     All Residential|[-1.0,-2140.0,2.4...|[2.21917280421792...|[0.86462582980481...|       0.0|\n",
            "|          03442|            -2140.0|             2.4|          -17.0|          -145.0|               55.0|   03442|               6|Single Family Res...|[6.0,-2140.0,2.40...|[2.21917280421792...|[0.86462582980481...|       0.0|\n",
            "|          06382|             9645.0|             0.2|          244.0|            25.0|               11.0|   06382|               3|         Condo/Co-op|[3.0,9645.0,0.200...|[2.64895421257875...|[0.91797709476904...|       0.0|\n",
            "|          06382|             9645.0|             0.2|          244.0|            25.0|               11.0|   06382|               4|Multi-Family (2-4...|[4.0,9645.0,0.200...|[2.64895421257875...|[0.91797709476904...|       0.0|\n",
            "|          06382|             9645.0|             0.2|          244.0|            25.0|               11.0|   06382|               6|Single Family Res...|[6.0,9645.0,0.200...|[2.64895421257875...|[0.91797709476904...|       0.0|\n",
            "|          06382|             9645.0|             0.2|          244.0|            25.0|               11.0|   06382|              -1|     All Residential|[-1.0,9645.0,0.20...|[2.64895421257875...|[0.91797709476904...|       0.0|\n",
            "|          08648|            17543.0|             0.7|         -590.0|          -652.0|              -80.0|   08648|               4|Multi-Family (2-4...|[4.0,17543.0,0.69...|[2.64895421257875...|[0.91797709476904...|       0.0|\n",
            "|          08648|            17543.0|             0.7|         -590.0|          -652.0|              -80.0|   08648|              -1|     All Residential|[-1.0,17543.0,0.6...|[2.64895421257875...|[0.91797709476904...|       0.0|\n",
            "|          08648|            17543.0|             0.7|         -590.0|          -652.0|              -80.0|   08648|               6|Single Family Res...|[6.0,17543.0,0.69...|[2.64895421257875...|[0.91797709476904...|       0.0|\n",
            "|          08648|            17543.0|             0.7|         -590.0|          -652.0|              -80.0|   08648|              13|           Townhouse|[13.0,17543.0,0.6...|[2.64895421257875...|[0.91797709476904...|       0.0|\n",
            "|          08648|            17543.0|             0.7|         -590.0|          -652.0|              -80.0|   08648|               3|         Condo/Co-op|[3.0,17543.0,0.69...|[2.64895421257875...|[0.91797709476904...|       0.0|\n",
            "|          11563|            11975.0|             0.9|        -1020.0|          -424.0|              -34.0|   11563|               3|         Condo/Co-op|[3.0,11975.0,0.89...|[2.64895421257875...|[0.91797709476904...|       0.0|\n",
            "+---------------+-------------------+----------------+---------------+----------------+-------------------+--------+----------------+--------------------+--------------------+--------------------+--------------------+----------+\n",
            "only showing top 20 rows\n",
            "\n",
            "+---------------+-------------------+----------------+---------------+----------------+-------------------+--------+----------------+--------------------+--------------------+--------------------+--------------------+----------+\n",
            "|Zip_Code_Census|Median_Income_Delta|Median_Age_Delta|Total_Pop_Delta|Total_Kids_Delta|Total_Married_Delta|Zip_Code|property_type_id|       property_type|            features|       rawPrediction|         probability|prediction|\n",
            "+---------------+-------------------+----------------+---------------+----------------+-------------------+--------+----------------+--------------------+--------------------+--------------------+--------------------+----------+\n",
            "|          02053|             9209.0|             0.9|          175.0|             4.0|               60.0|   02053|               4|Multi-Family (2-4...|[4.0,9209.0,0.899...|[2.60573103507041...|[0.91746767632199...|       0.0|\n",
            "|          02053|             9209.0|             0.9|          175.0|             4.0|               60.0|   02053|               3|         Condo/Co-op|[3.0,9209.0,0.899...|[2.60573103507041...|[0.91746767632199...|       0.0|\n",
            "|          02053|             9209.0|             0.9|          175.0|             4.0|               60.0|   02053|               6|Single Family Res...|[6.0,9209.0,0.899...|[2.60573103507041...|[0.91746767632199...|       0.0|\n",
            "|          02053|             9209.0|             0.9|          175.0|             4.0|               60.0|   02053|              -1|     All Residential|[-1.0,9209.0,0.89...|[2.60573103507041...|[0.91746767632199...|       0.0|\n",
            "|          02053|             9209.0|             0.9|          175.0|             4.0|               60.0|   02053|              13|           Townhouse|[13.0,9209.0,0.89...|[2.60573103507041...|[0.91746767632199...|       0.0|\n",
            "|          02090|            20003.0|            -0.9|          786.0|            19.0|               21.0|   02090|               6|Single Family Res...|[6.0,20003.0,-0.8...|[2.60573103507041...|[0.91746767632199...|       0.0|\n",
            "|          02090|            20003.0|            -0.9|          786.0|            19.0|               21.0|   02090|              -1|     All Residential|[-1.0,20003.0,-0....|[2.60573103507041...|[0.91746767632199...|       0.0|\n",
            "|          03442|            -2140.0|             2.4|          -17.0|          -145.0|               55.0|   03442|               3|         Condo/Co-op|[3.0,-2140.0,2.40...|[2.28664397750009...|[0.87056188103577...|       0.0|\n",
            "|          03442|            -2140.0|             2.4|          -17.0|          -145.0|               55.0|   03442|              -1|     All Residential|[-1.0,-2140.0,2.4...|[2.28664397750009...|[0.87056188103577...|       0.0|\n",
            "|          03442|            -2140.0|             2.4|          -17.0|          -145.0|               55.0|   03442|               6|Single Family Res...|[6.0,-2140.0,2.40...|[2.28664397750009...|[0.87056188103577...|       0.0|\n",
            "|          06382|             9645.0|             0.2|          244.0|            25.0|               11.0|   06382|               3|         Condo/Co-op|[3.0,9645.0,0.200...|[2.60573103507041...|[0.91746767632199...|       0.0|\n",
            "|          06382|             9645.0|             0.2|          244.0|            25.0|               11.0|   06382|               4|Multi-Family (2-4...|[4.0,9645.0,0.200...|[2.60573103507041...|[0.91746767632199...|       0.0|\n",
            "|          06382|             9645.0|             0.2|          244.0|            25.0|               11.0|   06382|               6|Single Family Res...|[6.0,9645.0,0.200...|[2.60573103507041...|[0.91746767632199...|       0.0|\n",
            "|          06382|             9645.0|             0.2|          244.0|            25.0|               11.0|   06382|              -1|     All Residential|[-1.0,9645.0,0.20...|[2.60573103507041...|[0.91746767632199...|       0.0|\n",
            "|          08648|            17543.0|             0.7|         -590.0|          -652.0|              -80.0|   08648|               4|Multi-Family (2-4...|[4.0,17543.0,0.69...|[2.60573103507041...|[0.91746767632199...|       0.0|\n",
            "|          08648|            17543.0|             0.7|         -590.0|          -652.0|              -80.0|   08648|              -1|     All Residential|[-1.0,17543.0,0.6...|[2.60573103507041...|[0.91746767632199...|       0.0|\n",
            "|          08648|            17543.0|             0.7|         -590.0|          -652.0|              -80.0|   08648|               6|Single Family Res...|[6.0,17543.0,0.69...|[2.60573103507041...|[0.91746767632199...|       0.0|\n",
            "|          08648|            17543.0|             0.7|         -590.0|          -652.0|              -80.0|   08648|              13|           Townhouse|[13.0,17543.0,0.6...|[2.60573103507041...|[0.91746767632199...|       0.0|\n",
            "|          08648|            17543.0|             0.7|         -590.0|          -652.0|              -80.0|   08648|               3|         Condo/Co-op|[3.0,17543.0,0.69...|[2.60573103507041...|[0.91746767632199...|       0.0|\n",
            "|          11563|            11975.0|             0.9|        -1020.0|          -424.0|              -34.0|   11563|               3|         Condo/Co-op|[3.0,11975.0,0.89...|[2.60573103507041...|[0.91746767632199...|       0.0|\n",
            "+---------------+-------------------+----------------+---------------+----------------+-------------------+--------+----------------+--------------------+--------------------+--------------------+--------------------+----------+\n",
            "only showing top 20 rows\n",
            "\n"
          ]
        }
      ],
      "source": [
        "df_pred_sales = mlp_model_sales.transform(vectored_df_real)\n",
        "df_pred_sales = df_pred_sales#.select('features','label','rawPrediction','probability','prediction')\n",
        "df_pred_sales.show()\n",
        "df_pred_ppsf = mlp_model_ppsf.transform(vectored_df_real)\n",
        "df_pred_ppsf = df_pred_ppsf#.select('features','label','rawPrediction','probability','prediction')\n",
        "df_pred_ppsf.show()"
      ]
    }
  ],
  "metadata": {
    "colab": {
      "name": "ML_Final_Model",
      "provenance": []
    },
    "kernelspec": {
      "display_name": "Python 3",
      "name": "python3"
    },
    "language_info": {
      "name": "python"
    }
  },
  "nbformat": 4,
  "nbformat_minor": 0
}