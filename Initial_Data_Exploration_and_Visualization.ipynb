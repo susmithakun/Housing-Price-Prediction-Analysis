{
  "nbformat": 4,
  "nbformat_minor": 0,
  "metadata": {
    "colab": {
      "name": "Initial Data Exploration and Visualization",
      "provenance": [],
      "collapsed_sections": []
    },
    "kernelspec": {
      "name": "python3",
      "display_name": "Python 3"
    },
    "language_info": {
      "name": "python"
    }
  },
  "cells": [
    {
      "cell_type": "markdown",
      "metadata": {
        "id": "view-in-github"
      },
      "source": [
        "<a href=\"https://colab.research.google.com/github/JoeVal5/CIS_5367_HJMNS/blob/main/Presentation1_v1.ipynb%20-%20Joe%20Additional%20updates\" target=\"_parent\"><img src=\"https://colab.research.google.com/assets/colab-badge.svg\" alt=\"Open In Colab\"/></a>"
      ]
    },
    {
      "cell_type": "code",
      "execution_count": null,
      "metadata": {
        "id": "ZE6ubVcr4hSY"
      },
      "outputs": [],
      "source": [
        "# Spark init#save the files in the g drive folder - first two commands\n",
        "!wget -q https://dlcdn.apache.org/spark/spark-3.1.2/spark-3.1.2-bin-hadoop2.7.tgz \n",
        "!tar xf spark-3.1.2-bin-hadoop2.7.tgz\n",
        "import os\n",
        "os.environ[\"JAVA_HOME\"] = \"/usr/lib/jvm/default-java\"\n",
        "os.environ[\"SPARK_HOME\"] = \"/content/spark-3.1.2-bin-hadoop2.7\"\n",
        "!pip install -q findspark\n",
        "import findspark\n",
        "findspark.init()"
      ]
    },
    {
      "cell_type": "code",
      "source": [
        "from pyspark.sql import SparkSession\n",
        "spark = SparkSession.builder\\\n",
        "        .master(\"local\")\\\n",
        "        .appName(\"Colab\")\\\n",
        "        .config('spark.ui.port', '4050')\\\n",
        "        .getOrCreate()"
      ],
      "metadata": {
        "id": "Km--g4b74inS"
      },
      "execution_count": null,
      "outputs": []
    },
    {
      "cell_type": "code",
      "source": [
        "from google.colab import drive\n",
        "drive.mount('/content/drive')"
      ],
      "metadata": {
        "colab": {
          "base_uri": "https://localhost:8080/"
        },
        "id": "9r-9o5OB4nBA",
        "outputId": "04beb5b2-2567-4c1b-a5b6-91f1ebab061a"
      },
      "execution_count": null,
      "outputs": [
        {
          "output_type": "stream",
          "name": "stdout",
          "text": [
            "Mounted at /content/drive\n"
          ]
        }
      ]
    },
    {
      "cell_type": "code",
      "source": [
        "!head -5 /content/drive/MyDrive/data/zip_code_market_tracker.tsv000"
      ],
      "metadata": {
        "colab": {
          "base_uri": "https://localhost:8080/"
        },
        "id": "A-k9oO-p4pqg",
        "outputId": "a3f59cdd-e25a-4791-fef4-67a2f2c723fc"
      },
      "execution_count": null,
      "outputs": [
        {
          "output_type": "stream",
          "name": "stdout",
          "text": [
            "period_begin\tperiod_end\tperiod_duration\tregion_type\tregion_type_id\ttable_id\tis_seasonally_adjusted\tregion\tcity\tstate\tstate_code\tproperty_type\tproperty_type_id\tmedian_sale_price\tmedian_sale_price_mom\tmedian_sale_price_yoy\tmedian_list_price\tmedian_list_price_mom\tmedian_list_price_yoy\tmedian_ppsf\tmedian_ppsf_mom\tmedian_ppsf_yoy\tmedian_list_ppsf\tmedian_list_ppsf_mom\tmedian_list_ppsf_yoy\thomes_sold\thomes_sold_mom\thomes_sold_yoy\tpending_sales\tpending_sales_mom\tpending_sales_yoy\tnew_listings\tnew_listings_mom\tnew_listings_yoy\tinventory\tinventory_mom\tinventory_yoy\tmonths_of_supply\tmonths_of_supply_mom\tmonths_of_supply_yoy\tmedian_dom\tmedian_dom_mom\tmedian_dom_yoy\tavg_sale_to_list\tavg_sale_to_list_mom\tavg_sale_to_list_yoy\tsold_above_list\tsold_above_list_mom\tsold_above_list_yoy\tprice_drops\tprice_drops_mom\tprice_drops_yoy\toff_market_in_two_weeks\toff_market_in_two_weeks_mom\toff_market_in_two_weeks_yoy\tparent_metro_region\tparent_metro_region_metro_code\tlast_updated\n",
            "2017-07-01\t2017-09-30\t90\tzip code\t2\t25920\tf\tZip Code: 60201\t\tIllinois\tIL\tTownhouse\t13\t434000\t0.12581063553826199\t0.16666666666666674\t339000\t-0.23389830508474574\t-0.081300813008130079\t251.0239445494644\t0.018609646213858078\t0.20095205914733882\t255.19848771266541\t0.0078385863940841904\t0.057817565648353941\t12\t-0.19999999999999996\t-0.40000000000000002\t2\t-0.5\t1\t9\t-0.25\t0\t7\t0\t0\t\t\t\t11\t3.5\t-20\t0.97986271677433778\t-0.016152319295977824\t0.012620150249700757\t0.16666666666666666\t-0.10000000000000001\t0.066666666666666652\t\t\t\t0\t-0.25\t-1\tChicago, IL\t16984\t2022-01-09 14:29:56\n",
            "2019-06-01\t2019-08-31\t90\tzip code\t2\t8841\tf\tZip Code: 22310\t\tVirginia\tVA\tAll Residential\t-1\t489950\t0.010206185567010362\t0.062567772717414982\t489000\t-0.001837109614207022\t0.075908774377089427\t286.03777589872607\t0.0026376776239556143\t0.044037882030350195\t284.87878787878788\t-0.0027303288770796907\t0.044270114033540642\t140\t-0.10828025477707004\t-0.072847682119205337\t49\t0.13953488372093026\t0.088888888888888795\t150\t-0.15730337078651691\t-0.08536585365853655\t63\t-0.13698630136986301\t-0.25882352941176467\t\t\t\t18.5\t4.5\t8.5\t1.001960632514789\t-0.00094230208078416311\t0.00590154935726106\t0.48571428571428571\t-0.030209281164695179\t0.16121097445600757\t\t\t\t0.40816326530612246\t0.03607024205030851\t-0.080725623582766415\tWashington, DC\t47894\t2022-01-09 14:29:56\n",
            "2016-05-01\t2016-07-31\t90\tzip code\t2\t20543\tf\tZip Code: 48208\t\tMichigan\tMI\tMulti-Family (2-4 Unit)\t4\t279000\t0\t\t373500\t\t\t111.59999999999999\t0\t\t103.29092920353982\t\t\t1\t0\t\t1\t\t\t1\t\t\t2\t0\t\t\t\t\t16\t0\t\t1.0337161911819193\t0\t\t1\t0\t\t\t\t\t1\t\t\tDetroit, MI\t19804\t2022-01-09 14:29:56\n",
            "2013-03-01\t2013-05-31\t90\tzip code\t2\t7850\tf\tZip Code: 20132\t\tVirginia\tVA\tAll Residential\t-1\t450000\t-0.01098901098901095\t0.046755059316120118\t475000\t-0.03933663666700371\t0.010853373058097526\t143.36587716254769\t0.00035145632076183375\t0.028346427376104932\t157.44084896916257\t-0.011384445273755373\t-0.028567580901117107\t62\t0.51219512195121952\t-0.015873015873015928\t30\t0.034482758620689724\t0.034482758620689724\t114\t0.096153846153846256\t-0.06557377049180324\t90\t-0.021739130434782594\t-0.24369747899159666\t\t\t\t28\t-23\t-52\t0.97831632606393082\t0.010556293956753615\t-0.0042845754055692575\t0.30645161290322581\t0.038158929976396527\t0.14772145417306709\t\t\t\t0.5\t-0.12068965517241381\t0.12068965517241381\tWashington, DC\t47894\t2022-01-09 14:29:56\n"
          ]
        }
      ]
    },
    {
      "cell_type": "code",
      "source": [
        "df = spark.read.csv('/content/drive/MyDrive/data/zip_code_market_tracker.tsv000', sep='\\t',header=True)"
      ],
      "metadata": {
        "id": "crDTixYp4sQX"
      },
      "execution_count": null,
      "outputs": []
    },
    {
      "cell_type": "code",
      "source": [
        "df.show(5)"
      ],
      "metadata": {
        "colab": {
          "base_uri": "https://localhost:8080/"
        },
        "id": "yCzesZ-s4vAq",
        "outputId": "8ebe8af4-cd1c-468a-b4ba-48dfd54b496a"
      },
      "execution_count": null,
      "outputs": [
        {
          "output_type": "stream",
          "name": "stdout",
          "text": [
            "+------------+----------+---------------+-----------+--------------+--------+----------------------+---------------+----+--------+----------+--------------------+----------------+-----------------+---------------------+---------------------+-----------------+---------------------+---------------------+------------------+--------------------+--------------------+------------------+--------------------+--------------------+----------+--------------------+--------------------+-------------+--------------------+--------------------+------------+--------------------+--------------------+---------+--------------------+--------------------+----------------+--------------------+--------------------+----------+--------------+--------------+-------------------+--------------------+--------------------+-------------------+--------------------+--------------------+-----------+---------------+---------------+-----------------------+---------------------------+---------------------------+-------------------+------------------------------+-------------------+\n",
            "|period_begin|period_end|period_duration|region_type|region_type_id|table_id|is_seasonally_adjusted|         region|city|   state|state_code|       property_type|property_type_id|median_sale_price|median_sale_price_mom|median_sale_price_yoy|median_list_price|median_list_price_mom|median_list_price_yoy|       median_ppsf|     median_ppsf_mom|     median_ppsf_yoy|  median_list_ppsf|median_list_ppsf_mom|median_list_ppsf_yoy|homes_sold|      homes_sold_mom|      homes_sold_yoy|pending_sales|   pending_sales_mom|   pending_sales_yoy|new_listings|    new_listings_mom|    new_listings_yoy|inventory|       inventory_mom|       inventory_yoy|months_of_supply|months_of_supply_mom|months_of_supply_yoy|median_dom|median_dom_mom|median_dom_yoy|   avg_sale_to_list|avg_sale_to_list_mom|avg_sale_to_list_yoy|    sold_above_list| sold_above_list_mom| sold_above_list_yoy|price_drops|price_drops_mom|price_drops_yoy|off_market_in_two_weeks|off_market_in_two_weeks_mom|off_market_in_two_weeks_yoy|parent_metro_region|parent_metro_region_metro_code|       last_updated|\n",
            "+------------+----------+---------------+-----------+--------------+--------+----------------------+---------------+----+--------+----------+--------------------+----------------+-----------------+---------------------+---------------------+-----------------+---------------------+---------------------+------------------+--------------------+--------------------+------------------+--------------------+--------------------+----------+--------------------+--------------------+-------------+--------------------+--------------------+------------+--------------------+--------------------+---------+--------------------+--------------------+----------------+--------------------+--------------------+----------+--------------+--------------+-------------------+--------------------+--------------------+-------------------+--------------------+--------------------+-----------+---------------+---------------+-----------------------+---------------------------+---------------------------+-------------------+------------------------------+-------------------+\n",
            "|  2017-07-01|2017-09-30|             90|   zip code|             2|   25920|                     f|Zip Code: 60201|null|Illinois|        IL|           Townhouse|              13|           434000|  0.12581063553826199|  0.16666666666666674|           339000| -0.23389830508474574| -0.08130081300813...| 251.0239445494644|0.018609646213858078| 0.20095205914733882|255.19848771266541|0.007838586394084...|0.057817565648353941|        12|-0.19999999999999996|-0.40000000000000002|            2|                -0.5|                   1|           9|               -0.25|                   0|        7|                   0|                   0|            null|                null|                null|        11|           3.5|           -20|0.97986271677433778|-0.01615231929597...|0.012620150249700757|0.16666666666666666|-0.10000000000000001|0.066666666666666652|       null|           null|           null|                      0|                      -0.25|                         -1|        Chicago, IL|                         16984|2022-01-09 14:29:56|\n",
            "|  2019-06-01|2019-08-31|             90|   zip code|             2|    8841|                     f|Zip Code: 22310|null|Virginia|        VA|     All Residential|              -1|           489950| 0.010206185567010362| 0.062567772717414982|           489000| -0.00183710961420...| 0.075908774377089427|286.03777589872607|0.002637677623955...|0.044037882030350195|284.87878787878788|-0.00273032887707...|0.044270114033540642|       140|-0.10828025477707004|-0.07284768211920...|           49| 0.13953488372093026|0.088888888888888795|         150|-0.15730337078651691|-0.08536585365853655|       63|-0.13698630136986301|-0.25882352941176467|            null|                null|                null|      18.5|           4.5|           8.5|  1.001960632514789|-0.00094230208078...| 0.00590154935726106|0.48571428571428571|-0.03020928116469...| 0.16121097445600757|       null|           null|           null|    0.40816326530612246|        0.03607024205030851|       -0.08072562358276...|     Washington, DC|                         47894|2022-01-09 14:29:56|\n",
            "|  2016-05-01|2016-07-31|             90|   zip code|             2|   20543|                     f|Zip Code: 48208|null|Michigan|        MI|Multi-Family (2-4...|               4|           279000|                    0|                 null|           373500|                 null|                 null|111.59999999999999|                   0|                null|103.29092920353982|                null|                null|         1|                   0|                null|            1|                null|                null|           1|                null|                null|        2|                   0|                null|            null|                null|                null|        16|             0|          null| 1.0337161911819193|                   0|                null|                  1|                   0|                null|       null|           null|           null|                      1|                       null|                       null|        Detroit, MI|                         19804|2022-01-09 14:29:56|\n",
            "|  2013-03-01|2013-05-31|             90|   zip code|             2|    7850|                     f|Zip Code: 20132|null|Virginia|        VA|     All Residential|              -1|           450000| -0.01098901098901095| 0.046755059316120118|           475000| -0.03933663666700371| 0.010853373058097526|143.36587716254769|0.000351456320761...|0.028346427376104932|157.44084896916257|-0.01138444527375...|-0.02856758090111...|        62| 0.51219512195121952|-0.01587301587301...|           30|0.034482758620689724|0.034482758620689724|         114|0.096153846153846256|-0.06557377049180324|       90|-0.02173913043478...|-0.24369747899159666|            null|                null|                null|        28|           -23|           -52|0.97831632606393082|0.010556293956753615|-0.00428457540556...|0.30645161290322581|0.038158929976396527| 0.14772145417306709|       null|           null|           null|                    0.5|       -0.12068965517241381|        0.12068965517241381|     Washington, DC|                         47894|2022-01-09 14:29:56|\n",
            "|  2014-10-01|2014-12-31|             90|   zip code|             2|   15119|                     f|Zip Code: 35758|null| Alabama|        AL|           Townhouse|              13|           125000|                    0|  0.27260140087962204|           124900| 0.041701417848206912|  0.43233944954128445|83.265306122448976|0.060914848698099933|0.097251700680272002|89.450620788856085|0.030743626324494011| 0.55578404219728261|         7|                   0| 0.39999999999999991|            1|                -0.5|                   0|           6|-0.33333333333333337|                 0.5|        7|              -0.125|-0.46153846153846156|            null|                null|                null|       207|             0|            53| 0.9668249660622974|-0.00188252114857...|-0.00131003758137...|0.14285714285714285|                   0|-0.25714285714285717|       null|           null|           null|                      0|                          0|                          0|     Huntsville, AL|                         26620|2022-01-09 14:29:56|\n",
            "+------------+----------+---------------+-----------+--------------+--------+----------------------+---------------+----+--------+----------+--------------------+----------------+-----------------+---------------------+---------------------+-----------------+---------------------+---------------------+------------------+--------------------+--------------------+------------------+--------------------+--------------------+----------+--------------------+--------------------+-------------+--------------------+--------------------+------------+--------------------+--------------------+---------+--------------------+--------------------+----------------+--------------------+--------------------+----------+--------------+--------------+-------------------+--------------------+--------------------+-------------------+--------------------+--------------------+-----------+---------------+---------------+-----------------------+---------------------------+---------------------------+-------------------+------------------------------+-------------------+\n",
            "only showing top 5 rows\n",
            "\n"
          ]
        }
      ]
    },
    {
      "cell_type": "code",
      "source": [
        "df_2 = df.drop(\"region_type\",\"region_type_id\",\"is_seasonally_adjusted\",\"city\",\"table_id\",\"period_duration\",\"months_of_supply\",\"price_drops\",\"median_sale_price_mom\", \"median_sale_price_yoy\",\"median_list_price_mom\",\"median_list_price_yoy\",\"median_ppsf_mom\",\"median_ppsf_yoy\",\"median_list_ppsf_mom\",\"median_list_ppsf_yoy\",\"homes_sold_mom\",\"homes_sold_yoy\", \"pending_sales_mom\",\"pending_sales_yoy\",\"new_listings_mom\",\"new_listings_yoy\",\"inventory_mom\",\"inventory_yoy\",\"months_of_supply_mom\",\"months_of_supply_yoy\",\"median_dom_mom\",\"median_dom_yoy\",\"avg_sale_to_list_mom\",\"avg_sale_to_list_yoy\",\"sold_above_list_mom\",\"sold_above_list_yoy\",\"price_drops_mom\",\"price_drops_yoy\",\"off_market_in_two_weeks_mom\",\"off_market_in_two_weeks_yoy\")"
      ],
      "metadata": {
        "id": "-LV2cbH94zWQ"
      },
      "execution_count": null,
      "outputs": []
    },
    {
      "cell_type": "code",
      "source": [
        "df_2.show(5)"
      ],
      "metadata": {
        "colab": {
          "base_uri": "https://localhost:8080/"
        },
        "id": "rLI4N18y40VY",
        "outputId": "7cb7a32b-e361-4145-93c7-5f74bb41f28c"
      },
      "execution_count": null,
      "outputs": [
        {
          "output_type": "stream",
          "name": "stdout",
          "text": [
            "+------------+----------+---------------+--------+----------+--------------------+----------------+-----------------+-----------------+------------------+------------------+----------+-------------+------------+---------+----------+-------------------+-------------------+-----------------------+-------------------+------------------------------+-------------------+\n",
            "|period_begin|period_end|         region|   state|state_code|       property_type|property_type_id|median_sale_price|median_list_price|       median_ppsf|  median_list_ppsf|homes_sold|pending_sales|new_listings|inventory|median_dom|   avg_sale_to_list|    sold_above_list|off_market_in_two_weeks|parent_metro_region|parent_metro_region_metro_code|       last_updated|\n",
            "+------------+----------+---------------+--------+----------+--------------------+----------------+-----------------+-----------------+------------------+------------------+----------+-------------+------------+---------+----------+-------------------+-------------------+-----------------------+-------------------+------------------------------+-------------------+\n",
            "|  2017-07-01|2017-09-30|Zip Code: 60201|Illinois|        IL|           Townhouse|              13|           434000|           339000| 251.0239445494644|255.19848771266541|        12|            2|           9|        7|        11|0.97986271677433778|0.16666666666666666|                      0|        Chicago, IL|                         16984|2022-01-09 14:29:56|\n",
            "|  2019-06-01|2019-08-31|Zip Code: 22310|Virginia|        VA|     All Residential|              -1|           489950|           489000|286.03777589872607|284.87878787878788|       140|           49|         150|       63|      18.5|  1.001960632514789|0.48571428571428571|    0.40816326530612246|     Washington, DC|                         47894|2022-01-09 14:29:56|\n",
            "|  2016-05-01|2016-07-31|Zip Code: 48208|Michigan|        MI|Multi-Family (2-4...|               4|           279000|           373500|111.59999999999999|103.29092920353982|         1|            1|           1|        2|        16| 1.0337161911819193|                  1|                      1|        Detroit, MI|                         19804|2022-01-09 14:29:56|\n",
            "|  2013-03-01|2013-05-31|Zip Code: 20132|Virginia|        VA|     All Residential|              -1|           450000|           475000|143.36587716254769|157.44084896916257|        62|           30|         114|       90|        28|0.97831632606393082|0.30645161290322581|                    0.5|     Washington, DC|                         47894|2022-01-09 14:29:56|\n",
            "|  2014-10-01|2014-12-31|Zip Code: 35758| Alabama|        AL|           Townhouse|              13|           125000|           124900|83.265306122448976|89.450620788856085|         7|            1|           6|        7|       207| 0.9668249660622974|0.14285714285714285|                      0|     Huntsville, AL|                         26620|2022-01-09 14:29:56|\n",
            "+------------+----------+---------------+--------+----------+--------------------+----------------+-----------------+-----------------+------------------+------------------+----------+-------------+------------+---------+----------+-------------------+-------------------+-----------------------+-------------------+------------------------------+-------------------+\n",
            "only showing top 5 rows\n",
            "\n"
          ]
        }
      ]
    },
    {
      "cell_type": "code",
      "source": [
        "import pyspark.sql.functions as func"
      ],
      "metadata": {
        "id": "HoBPeljD440z"
      },
      "execution_count": null,
      "outputs": []
    },
    {
      "cell_type": "code",
      "source": [
        "#Distinct count of states in Redfin Dataset\n",
        "df_states = df_2.select(\"state_code\").distinct().count()\n",
        "df_states"
      ],
      "metadata": {
        "colab": {
          "base_uri": "https://localhost:8080/"
        },
        "id": "-fGWucMe475d",
        "outputId": "5fbd7ea4-177d-4cd6-b58b-00884b99b156"
      },
      "execution_count": null,
      "outputs": [
        {
          "output_type": "execute_result",
          "data": {
            "text/plain": [
              "47"
            ]
          },
          "metadata": {},
          "execution_count": 7
        }
      ]
    },
    {
      "cell_type": "code",
      "source": [
        "#Calculating difference of list and sale price and the percentage of that difference\n",
        "df_3 = df_2.withColumn('DiffOfList&SalePrice', df_2.median_sale_price - df_2.median_list_price)"
      ],
      "metadata": {
        "id": "dLu1Yd4-5EfP"
      },
      "execution_count": null,
      "outputs": []
    },
    {
      "cell_type": "code",
      "source": [
        "df_3.show(5)"
      ],
      "metadata": {
        "colab": {
          "base_uri": "https://localhost:8080/"
        },
        "id": "2Db6E3D05HvR",
        "outputId": "20045965-02e7-4c38-8e16-73eff25c14dc"
      },
      "execution_count": null,
      "outputs": [
        {
          "output_type": "stream",
          "name": "stdout",
          "text": [
            "+------------+----------+---------------+--------+----------+--------------------+----------------+-----------------+-----------------+------------------+------------------+----------+-------------+------------+---------+----------+-------------------+-------------------+-----------------------+-------------------+------------------------------+-------------------+--------------------+\n",
            "|period_begin|period_end|         region|   state|state_code|       property_type|property_type_id|median_sale_price|median_list_price|       median_ppsf|  median_list_ppsf|homes_sold|pending_sales|new_listings|inventory|median_dom|   avg_sale_to_list|    sold_above_list|off_market_in_two_weeks|parent_metro_region|parent_metro_region_metro_code|       last_updated|DiffOfList&SalePrice|\n",
            "+------------+----------+---------------+--------+----------+--------------------+----------------+-----------------+-----------------+------------------+------------------+----------+-------------+------------+---------+----------+-------------------+-------------------+-----------------------+-------------------+------------------------------+-------------------+--------------------+\n",
            "|  2017-07-01|2017-09-30|Zip Code: 60201|Illinois|        IL|           Townhouse|              13|           434000|           339000| 251.0239445494644|255.19848771266541|        12|            2|           9|        7|        11|0.97986271677433778|0.16666666666666666|                      0|        Chicago, IL|                         16984|2022-01-09 14:29:56|             95000.0|\n",
            "|  2019-06-01|2019-08-31|Zip Code: 22310|Virginia|        VA|     All Residential|              -1|           489950|           489000|286.03777589872607|284.87878787878788|       140|           49|         150|       63|      18.5|  1.001960632514789|0.48571428571428571|    0.40816326530612246|     Washington, DC|                         47894|2022-01-09 14:29:56|               950.0|\n",
            "|  2016-05-01|2016-07-31|Zip Code: 48208|Michigan|        MI|Multi-Family (2-4...|               4|           279000|           373500|111.59999999999999|103.29092920353982|         1|            1|           1|        2|        16| 1.0337161911819193|                  1|                      1|        Detroit, MI|                         19804|2022-01-09 14:29:56|            -94500.0|\n",
            "|  2013-03-01|2013-05-31|Zip Code: 20132|Virginia|        VA|     All Residential|              -1|           450000|           475000|143.36587716254769|157.44084896916257|        62|           30|         114|       90|        28|0.97831632606393082|0.30645161290322581|                    0.5|     Washington, DC|                         47894|2022-01-09 14:29:56|            -25000.0|\n",
            "|  2014-10-01|2014-12-31|Zip Code: 35758| Alabama|        AL|           Townhouse|              13|           125000|           124900|83.265306122448976|89.450620788856085|         7|            1|           6|        7|       207| 0.9668249660622974|0.14285714285714285|                      0|     Huntsville, AL|                         26620|2022-01-09 14:29:56|               100.0|\n",
            "+------------+----------+---------------+--------+----------+--------------------+----------------+-----------------+-----------------+------------------+------------------+----------+-------------+------------+---------+----------+-------------------+-------------------+-----------------------+-------------------+------------------------------+-------------------+--------------------+\n",
            "only showing top 5 rows\n",
            "\n"
          ]
        }
      ]
    },
    {
      "cell_type": "code",
      "source": [
        "from pyspark.sql.functions import *\n",
        "import datetime\n",
        "from pyspark.sql.functions import year, month, dayofmonth\n",
        "from pyspark.sql.functions import sum, col, desc"
      ],
      "metadata": {
        "id": "8Ejbh9-G5Mmx"
      },
      "execution_count": null,
      "outputs": []
    },
    {
      "cell_type": "code",
      "source": [
        "#Grouping by period begin and calculating average median sale price\n",
        "df_4 = df_3.groupBy(year('period_begin'),).agg({'median_sale_price':'avg'}).sort(desc(year(df_3.period_begin)))\n",
        "df_4.show(5)"
      ],
      "metadata": {
        "colab": {
          "base_uri": "https://localhost:8080/"
        },
        "id": "aLagVGTl5R74",
        "outputId": "e3a10069-4f7b-4f4a-9fdd-c60f07f4d7a6"
      },
      "execution_count": null,
      "outputs": [
        {
          "output_type": "stream",
          "name": "stdout",
          "text": [
            "+------------------+----------------------+\n",
            "|year(period_begin)|avg(median_sale_price)|\n",
            "+------------------+----------------------+\n",
            "|              2021|    401835.58340094466|\n",
            "|              2020|     362584.1021330095|\n",
            "|              2019|    327522.84003192815|\n",
            "|              2018|     316829.5468317408|\n",
            "|              2017|      299386.425371486|\n",
            "+------------------+----------------------+\n",
            "only showing top 5 rows\n",
            "\n"
          ]
        }
      ]
    },
    {
      "cell_type": "code",
      "source": [
        "#Grouping by state and calculating average median sale price\n",
        "df_5 = df_3.groupBy('state_code').agg({'median_sale_price':'avg'}).sort(desc('state_code'))\n",
        "#df_5.show()"
      ],
      "metadata": {
        "id": "cwWfvVYJ5dBo"
      },
      "execution_count": null,
      "outputs": []
    },
    {
      "cell_type": "code",
      "source": [
        "from pyspark import SparkContext\n",
        "from pyspark.sql import SQLContext\n",
        "from pyspark.sql import functions as F\n",
        "from pyspark.sql.window import Window\n",
        "from pyspark.sql.functions import *\n",
        "import datetime\n",
        "from pyspark.sql.functions import year, month, dayofmonth\n",
        "from pyspark.sql.functions import sum, col, desc, avg\n",
        "from pyspark.sql.functions import lit"
      ],
      "metadata": {
        "id": "tg5q6Lyj5eY2"
      },
      "execution_count": null,
      "outputs": []
    },
    {
      "cell_type": "code",
      "source": [
        "#Calculating difference between median sale price\n",
        "\n",
        "my_window = Window.partitionBy().orderBy(\"period_begin\")\n",
        "\n",
        "df_3 = df_3.withColumn(\"prev_value\", F.lag(\"median_sale_price\").over(my_window))\n",
        "df_3 = df_3.withColumn(\"diff\", F.when(F.isnull(df_3.median_sale_price - df_3.prev_value), 0)\n",
        "                              .otherwise(df_3.median_sale_price - df_3.prev_value))\n",
        "\n",
        "#df_3.show()"
      ],
      "metadata": {
        "id": "xwILMIhe5iX9"
      },
      "execution_count": null,
      "outputs": []
    },
    {
      "cell_type": "code",
      "source": [
        "#Spliting Region Column and add a new column named zip code\n",
        "from pyspark.sql.functions import split\n",
        " \n",
        "df_zipcode = df_3.withColumn(\"ZIP_Code\", split(col(\"region\"), \": \").getItem(1))\n",
        "df_zipcode.show(5)"
      ],
      "metadata": {
        "colab": {
          "base_uri": "https://localhost:8080/"
        },
        "id": "hZgF5VaQWuHw",
        "outputId": "54450f76-33e0-4be3-c342-1a2ec69b6a56"
      },
      "execution_count": null,
      "outputs": [
        {
          "output_type": "stream",
          "name": "stdout",
          "text": [
            "+------------+----------+---------------+-------------+----------+--------------------+----------------+-----------------+-----------------+------------------+------------------+----------+-------------+------------+---------+----------+-------------------+-------------------+-----------------------+-------------------+------------------------------+-------------------+--------------------+----------+---------+--------+\n",
            "|period_begin|period_end|         region|        state|state_code|       property_type|property_type_id|median_sale_price|median_list_price|       median_ppsf|  median_list_ppsf|homes_sold|pending_sales|new_listings|inventory|median_dom|   avg_sale_to_list|    sold_above_list|off_market_in_two_weeks|parent_metro_region|parent_metro_region_metro_code|       last_updated|DiffOfList&SalePrice|prev_value|     diff|ZIP_Code|\n",
            "+------------+----------+---------------+-------------+----------+--------------------+----------------+-----------------+-----------------+------------------+------------------+----------+-------------+------------+---------+----------+-------------------+-------------------+-----------------------+-------------------+------------------------------+-------------------+--------------------+----------+---------+--------+\n",
            "|  2012-01-01|2012-03-31|Zip Code: 44053|         Ohio|        OH|     All Residential|              -1|            86500|           115000|59.794372294372295|66.872427983539097|        32|            4|          69|      178|       209|0.90530018417568903|             0.0625|                      0|      Cleveland, OH|                         17460|2022-01-09 14:29:56|            -28500.0|      null|      0.0|   44053|\n",
            "|  2012-01-01|2012-03-31|Zip Code: 11558|     New York|        NY|Multi-Family (2-4...|               4|           235000|           429000|11.627906976744185|214.45208903960696|         1|            2|           4|        4|      1263| 1.0444444444444445|                  1|                      0|  Nassau County, NY|                         35004|2022-01-09 14:29:56|           -194000.0|     86500| 148500.0|   11558|\n",
            "|  2012-01-01|2012-03-31|Zip Code: 32523|      Florida|        FL|     All Residential|              -1|           335000|             null|             107.2|              null|         1|         null|        null|     null|       131|0.89333333333333331|                  0|                   null|      Pensacola, FL|                         37860|2022-01-09 14:29:56|                null|    235000| 100000.0|   32523|\n",
            "|  2012-01-01|2012-03-31|Zip Code: 03064|New Hampshire|        NH|     All Residential|              -1|         199416.5|           182350|124.39901760825394|111.28467153284672|        22|            4|          40|       58|        99|0.96656105186853625|0.18181818181818182|                      0|     Manchester, NH|                         31700|2022-01-09 14:29:56|             17066.5|    335000|-135583.5|   03064|\n",
            "|  2012-01-01|2012-03-31|Zip Code: 80214|     Colorado|        CO|     All Residential|              -1|           132050|           189900| 86.79245283018868|109.01162790697674|        59|           18|          89|       73|        70|0.94992009297714997|0.16949152542372881|                    0.5|         Denver, CO|                         19740|2022-01-09 14:29:56|            -57850.0|  199416.5| -67366.5|   80214|\n",
            "+------------+----------+---------------+-------------+----------+--------------------+----------------+-----------------+-----------------+------------------+------------------+----------+-------------+------------+---------+----------+-------------------+-------------------+-----------------------+-------------------+------------------------------+-------------------+--------------------+----------+---------+--------+\n",
            "only showing top 5 rows\n",
            "\n"
          ]
        }
      ]
    },
    {
      "cell_type": "code",
      "source": [
        "df_avg_by_zip =df_zipcode.groupBy(\"ZIP_Code\",year('period_begin')).agg({'median_sale_price':'avg'}).sort(\"ZIP_Code\",(year(df_zipcode.period_begin)))\n",
        "df_avg_by_zip.show(5)"
      ],
      "metadata": {
        "colab": {
          "base_uri": "https://localhost:8080/"
        },
        "id": "ZC3tecukPpWI",
        "outputId": "94a0a727-19b0-49f5-c99f-d1b5ef0a8210"
      },
      "execution_count": null,
      "outputs": [
        {
          "output_type": "stream",
          "name": "stdout",
          "text": [
            "+--------+------------------+----------------------+\n",
            "|ZIP_Code|year(period_begin)|avg(median_sale_price)|\n",
            "+--------+------------------+----------------------+\n",
            "|   00501|              2012|              180000.0|\n",
            "|   00501|              2013|              255000.0|\n",
            "|   00501|              2015|              239770.0|\n",
            "|   00501|              2017|              155367.0|\n",
            "|   00501|              2018|              325000.0|\n",
            "+--------+------------------+----------------------+\n",
            "only showing top 5 rows\n",
            "\n"
          ]
        }
      ]
    },
    {
      "cell_type": "code",
      "source": [
        "df_zipcode_2 = df_zipcode.select('Zip_Code',year('period_begin'),'median_sale_price')\n",
        "#df_zipcode_2.show(5)\n",
        "df_avg_by_zip =df_zipcode_2.groupBy(\"ZIP_Code\").pivot('year(period_begin)').agg({'median_sale_price':'avg'}).sortby\n",
        "df_avg_by_zip.show(5)"
      ],
      "metadata": {
        "colab": {
          "base_uri": "https://localhost:8080/"
        },
        "id": "9sr4bS6WS5ul",
        "outputId": "f82cd7f5-bb6a-44a6-fc8e-79353b8772df"
      },
      "execution_count": null,
      "outputs": [
        {
          "output_type": "stream",
          "name": "stdout",
          "text": [
            "+--------+------------------+-----------------+------------------+------------------+------------------+------------------+------------------+------------------+-----------------+------------------+\n",
            "|ZIP_Code|              2012|             2013|              2014|              2015|              2016|              2017|              2018|              2019|             2020|              2021|\n",
            "+--------+------------------+-----------------+------------------+------------------+------------------+------------------+------------------+------------------+-----------------+------------------+\n",
            "|   64747|           84600.0|87279.16666666667|           90094.0|        107729.375|133957.14285714287|118318.33333333333| 145698.2142857143|168377.08333333334|161435.7142857143|197565.21739130435|\n",
            "|   27248|              null|             null| 72294.42857142857| 93358.33333333333|128041.66666666667|           82375.0|123552.33333333333|111979.16666666667|         108662.5|          143650.0|\n",
            "|   38685|           20500.0|          24400.0|         248750.25|          100200.4|           40750.0|           87000.0|           72500.0|           26500.0|             null|463814.28571428574|\n",
            "|   92332|              null|             null|              null|              null|              null|              null|              null|              null|         125000.0|              null|\n",
            "|   60053|200413.22916666666|      226024.4375|238492.09615384616|248775.52083333334|263947.44897959183| 281304.1666666667|  275901.862745098| 276786.4583333333|301239.5833333333| 332854.6511627907|\n",
            "+--------+------------------+-----------------+------------------+------------------+------------------+------------------+------------------+------------------+-----------------+------------------+\n",
            "only showing top 5 rows\n",
            "\n"
          ]
        }
      ]
    },
    {
      "cell_type": "code",
      "source": [
        "#Counting distint zip code\n",
        "zip_count = df_3.select('region').distinct().count()\n",
        "zip_count\n"
      ],
      "metadata": {
        "colab": {
          "base_uri": "https://localhost:8080/"
        },
        "id": "SIrjlEz_U3R-",
        "outputId": "251d9fcb-5f0f-4fda-a5e2-cf9bb23fda0c"
      },
      "execution_count": null,
      "outputs": [
        {
          "output_type": "execute_result",
          "data": {
            "text/plain": [
              "18817"
            ]
          },
          "metadata": {},
          "execution_count": 15
        }
      ]
    },
    {
      "cell_type": "code",
      "source": [
        "#Grouping by state and calculating average difference of median sale price\n",
        "df_6 = df_3.groupBy('state_code').agg({'diff':'avg'}).sort(desc('state_code'))\n",
        "df_6.show()"
      ],
      "metadata": {
        "colab": {
          "base_uri": "https://localhost:8080/"
        },
        "id": "0rRSWzkD5lMA",
        "outputId": "92a44626-3c29-4b34-f920-3d87d83d0940"
      },
      "execution_count": null,
      "outputs": [
        {
          "output_type": "stream",
          "name": "stdout",
          "text": [
            "+----------+-------------------+\n",
            "|state_code|          avg(diff)|\n",
            "+----------+-------------------+\n",
            "|        WV|-110408.55942776735|\n",
            "|        WI|-122563.16650400459|\n",
            "|        WA| 59871.220940182735|\n",
            "|        VT| -50599.69678308375|\n",
            "|        VA|  52924.34346192212|\n",
            "|        UT| -9981.502163889674|\n",
            "|        TX| -62635.91684831851|\n",
            "|        TN| -107012.4056138824|\n",
            "|        SC| -91005.09704286697|\n",
            "|        RI| -9225.830760884783|\n",
            "|        PA| -95261.13769621917|\n",
            "|        OR|  6864.239373305035|\n",
            "|        OK| -147332.9635285987|\n",
            "|        OH|-128705.95788492034|\n",
            "|        NY| 119268.69354289245|\n",
            "|        NV|-23636.838470910752|\n",
            "|        NM|  29495.59345412994|\n",
            "|        NJ|  33633.41153868969|\n",
            "|        NH| -37732.71059327168|\n",
            "|        NE|-104309.95110033857|\n",
            "+----------+-------------------+\n",
            "only showing top 20 rows\n",
            "\n"
          ]
        }
      ]
    },
    {
      "cell_type": "code",
      "source": [
        "# convert dataframe to dictionary \n",
        "# Visualuizing Date vs. Median Sale Price of Redfin Data\n",
        "import matplotlib.pyplot as plt\n",
        "dict = df_4.rdd.collectAsMap()\n",
        "plt.bar(list(dict.keys()), dict.values(), color='g')\n",
        "plt.xlabel(\"year\",fontsize=10)\n",
        "plt.ylabel(\"Median Sale Price\",fontsize=10)\n",
        "plt.title(\"Date Vs. Median Sale Price of Redfin Data\",fontsize=20)"
      ],
      "metadata": {
        "colab": {
          "base_uri": "https://localhost:8080/",
          "height": 317
        },
        "id": "AWN_-a9m5nVO",
        "outputId": "6c95a28f-2b47-45b6-b47e-80d84646fc26"
      },
      "execution_count": null,
      "outputs": [
        {
          "output_type": "execute_result",
          "data": {
            "text/plain": [
              "Text(0.5, 1.0, 'Date Vs. Median Sale Price of Redfin Data')"
            ]
          },
          "metadata": {},
          "execution_count": 17
        },
        {
          "output_type": "display_data",
          "data": {
            "text/plain": [
              "<Figure size 432x288 with 1 Axes>"
            ],
            "image/png": "[encoded data removed]"
          },
          "metadata": {
            "needs_background": "light"
          }
        }
      ]
    },
    {
      "cell_type": "code",
      "source": [
        "#Grouping by state_code and calculating sum of homes sold\n",
        "df_7 = df_3.groupBy('state_code').agg({'homes_sold':'sum'}).sort(desc('state_code'))\n",
        "df_7.show()"
      ],
      "metadata": {
        "colab": {
          "base_uri": "https://localhost:8080/"
        },
        "id": "g-8nqn6Y7T5W",
        "outputId": "4914f680-2acf-4479-bab6-3f334b8f0e1f"
      },
      "execution_count": null,
      "outputs": [
        {
          "output_type": "stream",
          "name": "stdout",
          "text": [
            "+----------+---------------+\n",
            "|state_code|sum(homes_sold)|\n",
            "+----------+---------------+\n",
            "|        WV|       231252.0|\n",
            "|        WI|      3154496.0|\n",
            "|        WA|      6200008.0|\n",
            "|        VT|       341600.0|\n",
            "|        VA|      5122254.0|\n",
            "|        UT|      2483498.0|\n",
            "|        TX|    1.6001554E7|\n",
            "|        TN|      4232576.0|\n",
            "|        SC|      3155930.0|\n",
            "|        RI|       831618.0|\n",
            "|        PA|      6835910.0|\n",
            "|        OR|      3433796.0|\n",
            "|        OK|      2358712.0|\n",
            "|        OH|      7672028.0|\n",
            "|        NY|      6753402.0|\n",
            "|        NV|      3229686.0|\n",
            "|        NM|       157080.0|\n",
            "|        NJ|      5826306.0|\n",
            "|        NH|      1188340.0|\n",
            "|        NE|      1069648.0|\n",
            "+----------+---------------+\n",
            "only showing top 20 rows\n",
            "\n"
          ]
        }
      ]
    },
    {
      "cell_type": "code",
      "source": [
        "# convert dataframe to dictionary \n",
        "# Visualizing number of homes sold in different states\n",
        "import matplotlib.pyplot as plt\n",
        "%matplotlib inline\n",
        "import seaborn as sns\n",
        "import pandas as pd\n",
        "\n",
        "dict = df_7.rdd.collectAsMap()\n",
        "plt.bar(list(dict.keys()), dict.values(), color='g')\n",
        "plt.xlabel(\"state\",fontsize=20)\n",
        "plt.xticks(rotation=90)\n",
        "plt.ylabel(\"Homes Sold\",fontsize=20)\n",
        "plt.title(\"Number of Homes sold in different States\",fontsize=20)\n",
        "plt.gcf().set_size_inches(10,5)"
      ],
      "metadata": {
        "colab": {
          "base_uri": "https://localhost:8080/",
          "height": 370
        },
        "id": "nZJbUlDc8udD",
        "outputId": "73e4cb5c-b9cf-4574-f1e4-82f564193c23"
      },
      "execution_count": null,
      "outputs": [
        {
          "output_type": "display_data",
          "data": {
            "text/plain": [
              "<Figure size 720x360 with 1 Axes>"
            ],
            "image/png": "[encoded data removed]"
          },
          "metadata": {
            "needs_background": "light"
          }
        }
      ]
    },
    {
      "cell_type": "code",
      "source": [
        "#Grouping by year and calculating sum of homes sold \n",
        "df_8 = df_3.groupBy(year('period_begin')).agg({'homes_sold':'sum'}).sort(desc(year('period_begin')))\n",
        "df_8.show()"
      ],
      "metadata": {
        "id": "5yXalD1LpgiK"
      },
      "execution_count": null,
      "outputs": []
    },
    {
      "cell_type": "code",
      "source": [
        "#Visualizing total house sold per yaer using Redfin data\n",
        "import matplotlib.pyplot as plt\n",
        "from matplotlib.ticker import (MultipleLocator, FormatStrFormatter,AutoMinorLocator)\n",
        "\n",
        "dict = df_8.rdd.collectAsMap()\n",
        "plt.bar(list(dict.keys()), dict.values(), color='y')\n",
        "plt.xlabel(\"year\",fontsize=10)\n",
        "plt.xticks(rotation=90)\n",
        "\n",
        "plt.ylabel(\"Total houses sold per year\",fontsize=10)\n",
        "plt.title(\"Total houses sold per year in Redfin data\",fontsize=20)\n",
        "plt.gcf().set_size_inches(10,5)"
      ],
      "metadata": {
        "id": "tXMLnPXDqfed"
      },
      "execution_count": null,
      "outputs": []
    },
    {
      "cell_type": "code",
      "source": [
        "# convert dataframe to dictionary \n",
        "# Visualizing State vs. Median Sale Price of Redfin Data\n",
        "import matplotlib.pyplot as plt\n",
        "dict = df_5.rdd.collectAsMap()\n",
        "plt.bar(list(dict.keys()), dict.values(), color='b')\n",
        "plt.xlabel(\"State\",fontsize=10)\n",
        "plt.xticks(rotation=90)\n",
        "plt.ylabel(\"Median Sale Price\",fontsize=10)\n",
        "plt.title(\"State Vs. Median Sale Price of Redfin Data\",fontsize=20)\n",
        "plt.gcf().set_size_inches(10,5)"
      ],
      "metadata": {
        "colab": {
          "base_uri": "https://localhost:8080/",
          "height": 361
        },
        "id": "lMyJoZcc5nad",
        "outputId": "66bec8d5-b4fa-413e-b006-4e8f844f6443"
      },
      "execution_count": null,
      "outputs": [
        {
          "output_type": "display_data",
          "data": {
            "text/plain": [
              "<Figure size 720x360 with 1 Axes>"
            ],
            "image/png": "[encoded data removed]"
          },
          "metadata": {
            "needs_background": "light"
          }
        }
      ]
    },
    {
      "cell_type": "code",
      "source": [
        "#Visualizing State vs. Difference of median Sale Price of Redfin data\n",
        "import matplotlib.pyplot as plt\n",
        "dict = df_6.rdd.collectAsMap()\n",
        "plt.bar(list(dict.keys()), dict.values(), color='lightblue')\n",
        "plt.xlabel(\"State\",fontsize=10)\n",
        "plt.xticks(rotation=90)\n",
        "plt.ylabel(\"Difference of Median Sale Price\",fontsize=10)\n",
        "plt.title(\"State Vs. Difference of Median Sale Price of Redfin Data\",fontsize=20)\n",
        "plt.gcf().set_size_inches(10,5)"
      ],
      "metadata": {
        "colab": {
          "base_uri": "https://localhost:8080/",
          "height": 361
        },
        "id": "_YsSGfc85skf",
        "outputId": "ff186272-78ae-4031-e624-24b4c81c90c9"
      },
      "execution_count": null,
      "outputs": [
        {
          "output_type": "display_data",
          "data": {
            "text/plain": [
              "<Figure size 720x360 with 1 Axes>"
            ],
            "image/png": "[encoded data removed]"
          },
          "metadata": {
            "needs_background": "light"
          }
        }
      ]
    },
    {
      "cell_type": "code",
      "source": [
        "## https://api.census.gov/data/2020/acs/acs5/variables.html lists all the possible variable keys for the API Request\n",
        "## Below provides a DF with the ZIP Code and the Median household income.\n",
        "## Need to initialize spark session first\n",
        "##CODE\n",
        "import requests\n",
        "from pyspark.sql.types import *\n",
        "from pyspark.sql.functions import from_json\n",
        "import pandas as pd\n",
        "from pyspark.sql.functions import col\n",
        "\n",
        "\n",
        "variables = 'B19013_001E'\n",
        "year = 2012\n",
        "key  = '46d133e794f5998e012ea4e0d83d6fb6085136b0'\n",
        "geography = 'zip%20code%20tabulation%20area'\n",
        "start_year = 2012\n",
        "end_year = 2020\n",
        "\n",
        "\n",
        "while year != end_year + 1:\n",
        "  census_API_call = requests.get(f'https://api.census.gov/data/{year}/acs/acs5?get={variables}&for={geography}:*&key={key}')\n",
        "  census_JSON = census_API_call.json()\n",
        "  df = pd.DataFrame(census_JSON[1:], columns = census_JSON[0])\n",
        "  #print(df)\n",
        "  sparkDF = spark.createDataFrame(df)\n",
        "  #sparkDF.show()\n",
        "  column_title = f\"Median_Inc_{year}\"\n",
        "  if year == start_year:\n",
        "    updated_df = sparkDF.select(col(\"zip code tabulation area\").alias(\"Zip_Code\"),col(\"B19013_001E\").alias(column_title) )\n",
        "  else:\n",
        "    updated_df = updated_df.join(sparkDF,sparkDF['zip code tabulation area']== updated_df.Zip_Code,'left').select(updated_df [\"*\"],sparkDF['B19013_001E'].alias(column_title))\n",
        "  \n",
        "  #print(year)\n",
        "  year += 1\n",
        "\n",
        "updated_df.show()"
      ],
      "metadata": {
        "id": "v1hsCDICUdfO",
        "colab": {
          "base_uri": "https://localhost:8080/"
        },
        "outputId": "e20eb802-0293-4a81-8d0d-9d02f7af977a"
      },
      "execution_count": null,
      "outputs": [
        {
          "output_type": "stream",
          "name": "stdout",
          "text": [
            "+--------+---------------+---------------+---------------+---------------+---------------+---------------+---------------+---------------+---------------+\n",
            "|Zip_Code|Median_Inc_2012|Median_Inc_2013|Median_Inc_2014|Median_Inc_2015|Median_Inc_2016|Median_Inc_2017|Median_Inc_2018|Median_Inc_2019|Median_Inc_2020|\n",
            "+--------+---------------+---------------+---------------+---------------+---------------+---------------+---------------+---------------+---------------+\n",
            "|   02053|         108181|         106132|         109841|         110241|         109865|         115432|         119450|         132823|         139688|\n",
            "|   02090|         130824|         128984|         128813|         135884|         140355|         146042|         155887|         160329|         159776|\n",
            "|   03442|          65048|          58750|          66125|          63958|          59205|          59881|          61818|          60000|          62802|\n",
            "|   03904|          53137|          63378|          59521|          61934|          67599|          72228|          69702|          77036|          61510|\n",
            "|   04438|          41042|          38177|          42969|          38594|          40643|          43438|          44375|          47000|          62647|\n",
            "|   06382|          60461|          57704|          58842|          58953|          61044|          66345|          68598|          70610|          78984|\n",
            "|   06518|          75036|          74230|          72681|          76759|          71549|          72943|          76938|          81358|          82321|\n",
            "|   07820|     -666666666|     -666666666|     -666666666|     -666666666|     -666666666|     -666666666|     -666666666|     -666666666|     -666666666|\n",
            "|   08648|          86067|          86451|          87001|          85090|          93696|          95537|         102633|         100930|         108772|\n",
            "|   11563|          86804|          90896|          90195|          85194|          81068|          91042|          97169|          99947|         117988|\n",
            "|   11722|          67041|          67023|          65939|          66570|          67222|          68588|          69360|          75021|          79432|\n",
            "|   12529|          65294|          78365|          67267|          62143|          67875|          59375|          69018|          83892|          84293|\n",
            "|   12847|          57232|          58906|          57000|          62917|          66875|          55694|          59375|          70000|          62778|\n",
            "|   13865|          50320|          51236|          57956|          60399|          61364|          67077|          62629|          60326|          54673|\n",
            "|   14204|          20888|          23259|          25199|          26269|          25222|          25267|          23886|          22500|          22989|\n",
            "|   14838|          50179|          55045|          58542|          55057|          58826|          57578|          60368|          56250|          67188|\n",
            "|   15555|          40625|          32500|          17813|          27188|          27083|          36667|     -666666666|          64583|          50833|\n",
            "|   15634|          60227|          66488|          68094|          58125|          61157|     -666666666|          16250|          16283|     -666666666|\n",
            "|   16250|          23516|          12059|          15313|          20417|          20000|          21429|          21250|          22356|     -666666666|\n",
            "|   16504|          43755|          43042|          42794|          40915|          40773|          41917|          41281|          43050|          43289|\n",
            "+--------+---------------+---------------+---------------+---------------+---------------+---------------+---------------+---------------+---------------+\n",
            "only showing top 20 rows\n",
            "\n"
          ]
        }
      ]
    },
    {
      "cell_type": "code",
      "source": [
        "census_median_inc = updated_df.withColumnRenamed('Zip_Code', 'Zip_Code')\\\n",
        ".withColumnRenamed('Median_Inc_2012', 'Median_Income_2012').withColumnRenamed('Median_Inc_2013', 'Median_Income_2013')\\\n",
        "                              .withColumnRenamed('Median_Inc_2014', 'Median_Income_2014')\\\n",
        "                              .withColumnRenamed('Median_Inc_2015', 'Median_Income_2015')\\\n",
        "                              .withColumnRenamed('Median_Inc_2016', 'Median_Income_2016')\\\n",
        "                              .withColumnRenamed('Median_Inc_2017', 'Median_Income_2017')\\\n",
        "                              .withColumnRenamed('Median_Inc_2018', 'Median_Income_2018')\\\n",
        "                              .withColumnRenamed('Median_Inc_2019', 'Median_Income_2019')\\\n",
        "                              .withColumnRenamed('Median_Inc_2020', 'Median_Income_2020'\n"
      ],
      "metadata": {
        "id": "6n21-lKJMYuR"
      },
      "execution_count": null,
      "outputs": []
    },
    {
      "cell_type": "code",
      "source": [
        "# Join two dataframes to reflect the sales price and median income based on the zipcode\n",
        "df_merged = df_zipcode.join(updated_df, 'ZIP_Code',)\\\n",
        "                                                .select(df_zipcode['ZIP_Code'], \n",
        "                                                df_zipcode['median_sale_price'],\n",
        "                                                df_zipcode['median_list_price'],\n",
        "                                                df_zipcode['property_type'],\n",
        "                                                df_zipcode['period_begin'],\n",
        "                                                df_zipcode['homes_sold'],\n",
        "                                                df_zipcode['state'], \n",
        "                                                updated_df['Median_Inc_2012'],\n",
        "                                                updated_df['Median_Inc_2013'],\n",
        "                                                updated_df['Median_Inc_2014'],\n",
        "                                                updated_df['Median_Inc_2015'],\n",
        "                                                updated_df['Median_Inc_2016'],\n",
        "                                                updated_df['Median_Inc_2017'],\n",
        "                                                updated_df['Median_Inc_2018'],\n",
        "                                                updated_df['Median_Inc_2019'],\n",
        "                                                updated_df['Median_Inc_2020']).sort(df_zipcode.period_begin.asc())"
      ],
      "metadata": {
        "id": "fYPCQw-gYtoQ"
      },
      "execution_count": null,
      "outputs": []
    },
    {
      "cell_type": "code",
      "source": [
        "df_merged.show(5)"
      ],
      "metadata": {
        "colab": {
          "base_uri": "https://localhost:8080/"
        },
        "id": "XsAgAQztatvk",
        "outputId": "bf7532ce-9e0d-40ef-c38c-dcecf80adb41"
      },
      "execution_count": null,
      "outputs": [
        {
          "output_type": "stream",
          "name": "stdout",
          "text": [
            "+--------+-----------------+-----------------+--------------------+------------+----------+-------------+---------------+---------------+---------------+---------------+---------------+---------------+---------------+---------------+---------------+\n",
            "|ZIP_Code|median_sale_price|median_list_price|       property_type|period_begin|homes_sold|        state|Median_Inc_2012|Median_Inc_2013|Median_Inc_2014|Median_Inc_2015|Median_Inc_2016|Median_Inc_2017|Median_Inc_2018|Median_Inc_2019|Median_Inc_2020|\n",
            "+--------+-----------------+-----------------+--------------------+------------+----------+-------------+---------------+---------------+---------------+---------------+---------------+---------------+---------------+---------------+---------------+\n",
            "|   02053|            90000|             null|Multi-Family (2-4...|  2012-01-01|         1|Massachusetts|         108181|         106132|         109841|         110241|         109865|         115432|         119450|         132823|         139688|\n",
            "|   06382|           164750|           194450|Single Family Res...|  2012-01-01|        12|  Connecticut|          60461|          57704|          58842|          58953|          61044|          66345|          68598|          70610|          78984|\n",
            "|   02090|           550000|           620000|Single Family Res...|  2012-01-01|        15|Massachusetts|         130824|         128984|         128813|         135884|         140355|         146042|         155887|         160329|         159776|\n",
            "|   02053|           166500|           219900|         Condo/Co-op|  2012-01-01|         2|Massachusetts|         108181|         106132|         109841|         110241|         109865|         115432|         119450|         132823|         139688|\n",
            "|   02090|           550000|           620000|     All Residential|  2012-01-01|        15|Massachusetts|         130824|         128984|         128813|         135884|         140355|         146042|         155887|         160329|         159776|\n",
            "+--------+-----------------+-----------------+--------------------+------------+----------+-------------+---------------+---------------+---------------+---------------+---------------+---------------+---------------+---------------+---------------+\n",
            "only showing top 5 rows\n",
            "\n"
          ]
        }
      ]
    },
    {
      "cell_type": "code",
      "source": [
        "census_median_inc = census_median_inc.withColumn('Median_Delta', abs(census_median_inc.Median_Income_2020 - census_median_inc.Median_Income_2012))\n",
        "census_median_inc.show(5)"
      ],
      "metadata": {
        "colab": {
          "base_uri": "https://localhost:8080/"
        },
        "id": "Yr-o-KhvJj1V",
        "outputId": "1b6be152-d058-4d7d-9238-f3072b71cf61"
      },
      "execution_count": null,
      "outputs": [
        {
          "output_type": "stream",
          "name": "stdout",
          "text": [
            "+--------+------------------+------------------+------------------+------------------+------------------+------------------+------------------+------------------+------------------+------------+\n",
            "|Zip_Code|Median_Income_2012|Median_Income_2013|Median_Income_2014|Median_Income_2015|Median_Income_2016|Median_Income_2017|Median_Income_2018|Median_Income_2019|Median_Income_2020|Median_Delta|\n",
            "+--------+------------------+------------------+------------------+------------------+------------------+------------------+------------------+------------------+------------------+------------+\n",
            "|   02053|            108181|            106132|            109841|            110241|            109865|            115432|            119450|            132823|            139688|     31507.0|\n",
            "|   02090|            130824|            128984|            128813|            135884|            140355|            146042|            155887|            160329|            159776|     28952.0|\n",
            "|   03442|             65048|             58750|             66125|             63958|             59205|             59881|             61818|             60000|             62802|      2246.0|\n",
            "|   03904|             53137|             63378|             59521|             61934|             67599|             72228|             69702|             77036|             61510|      8373.0|\n",
            "|   04438|             41042|             38177|             42969|             38594|             40643|             43438|             44375|             47000|             62647|     21605.0|\n",
            "+--------+------------------+------------------+------------------+------------------+------------------+------------------+------------------+------------------+------------------+------------+\n",
            "only showing top 5 rows\n",
            "\n"
          ]
        }
      ]
    },
    {
      "cell_type": "code",
      "source": [
        "sales_median_price = df_avg_by_zip.withColumn('Sales_Delta', abs(df_avg_by_zip['2020'] - df_avg_by_zip['2012']))\n",
        "sales_median_price.show(5)"
      ],
      "metadata": {
        "colab": {
          "base_uri": "https://localhost:8080/"
        },
        "id": "leyHuAvYWoiU",
        "outputId": "a244ffa9-ecd8-456d-d2ba-5e5fdb42a94b"
      },
      "execution_count": null,
      "outputs": [
        {
          "output_type": "stream",
          "name": "stdout",
          "text": [
            "+--------+------------------+-----------------+------------------+------------------+------------------+------------------+------------------+------------------+-----------------+------------------+------------------+\n",
            "|ZIP_Code|              2012|             2013|              2014|              2015|              2016|              2017|              2018|              2019|             2020|              2021|       Sales_Delta|\n",
            "+--------+------------------+-----------------+------------------+------------------+------------------+------------------+------------------+------------------+-----------------+------------------+------------------+\n",
            "|   64747|           84600.0|87279.16666666667|           90094.0|        107729.375|133957.14285714287|118318.33333333333| 145698.2142857143|168377.08333333334|161435.7142857143|197565.21739130435| 76835.71428571429|\n",
            "|   27248|              null|             null| 72294.42857142857| 93358.33333333333|128041.66666666667|           82375.0|123552.33333333333|111979.16666666667|         108662.5|          143650.0|              null|\n",
            "|   38685|           20500.0|          24400.0|         248750.25|          100200.4|           40750.0|           87000.0|           72500.0|           26500.0|             null|463814.28571428574|              null|\n",
            "|   92332|              null|             null|              null|              null|              null|              null|              null|              null|         125000.0|              null|              null|\n",
            "|   60053|200413.22916666666|      226024.4375|238492.09615384616|248775.52083333334|263947.44897959183| 281304.1666666667|  275901.862745098| 276786.4583333333|301239.5833333333| 332854.6511627907|100826.35416666666|\n",
            "+--------+------------------+-----------------+------------------+------------------+------------------+------------------+------------------+------------------+-----------------+------------------+------------------+\n",
            "only showing top 5 rows\n",
            "\n"
          ]
        }
      ]
    },
    {
      "cell_type": "code",
      "source": [
        "\n",
        "\n",
        "sales_pop_delta = census_median_inc.join(sales_median_price,sales_median_price['ZIP_Code']==census_median_inc['Zip_code'])\\\n",
        ".select(sales_median_price['ZIP_Code'],census_median_inc['Median_Delta'],sales_median_price['Sales_Delta'])\\\n",
        ".na.drop()\\\n",
        ".sort(sales_median_price['ZIP_Code'])\n",
        "\n",
        "\n"
      ],
      "metadata": {
        "id": "yvlV63WJX0WQ"
      },
      "execution_count": null,
      "outputs": []
    },
    {
      "cell_type": "code",
      "source": [
        "print(sales_pop_delta.count())"
      ],
      "metadata": {
        "colab": {
          "base_uri": "https://localhost:8080/"
        },
        "id": "geR6n916Z2GL",
        "outputId": "254920d9-8977-414a-fac2-c63ae2483934"
      },
      "execution_count": null,
      "outputs": [
        {
          "output_type": "stream",
          "name": "stdout",
          "text": [
            "13412\n"
          ]
        }
      ]
    },
    {
      "cell_type": "code",
      "source": [
        "import matplotlib.pyplot as plt\n",
        "\n",
        "delta_plot = sales_pop_delta.select(sales_pop_delta['Median_Delta'],sales_pop_delta['Sales_Delta']).toPandas()\n",
        "#delta_plot.head()\n",
        "import numpy as np\n",
        "from scipy import stats\n",
        "delta_plot = delta_plot[(np.abs(stats.zscore(delta_plot)) < 3).all(axis=1)]\n"
      ],
      "metadata": {
        "id": "D21GnpHraLwk"
      },
      "execution_count": null,
      "outputs": []
    },
    {
      "cell_type": "code",
      "source": [
        "\n",
        "x = delta_plot.Median_Delta\n",
        "y = delta_plot.Sales_Delta\n",
        "\n",
        "plt.scatter(x, y)\n",
        "\n",
        "plt.ylabel('Change in Sale Price')\n",
        "plt.xlabel('Change in Median Income')\n",
        "plt.title('Income Vs Price')\n",
        "plt.get_scale_names()\n",
        "plt.yscale('linear')"
      ],
      "metadata": {
        "colab": {
          "base_uri": "https://localhost:8080/",
          "height": 295
        },
        "id": "DQiHPoCld9OX",
        "outputId": "9e15ef80-16f6-4d42-88d5-cd38f94248f2"
      },
      "execution_count": null,
      "outputs": [
        {
          "output_type": "display_data",
          "data": {
            "text/plain": [
              "<Figure size 432x288 with 1 Axes>"
            ],
            "image/png": "[encoded data removed]"
          },
          "metadata": {
            "needs_background": "light"
          }
        }
      ]
    },
    {
      "cell_type": "code",
      "source": [
        "from pyspark.ml.linalg import Vectors\n",
        "from pyspark.ml.regression import LinearRegression\n",
        "from pyspark.ml.feature import VectorAssembler\n",
        "\n",
        "data_no_outliers= spark.createDataFrame(delta_plot)\n",
        "\n",
        "vectorAssembler = VectorAssembler(inputCols = ['Median_Delta'], outputCol = 'features')\n",
        "vectored_df = vectorAssembler.transform(data_no_outliers)\n",
        "vectored_df = vhouse_df.select(['features', 'Sales_Delta'])\n",
        "vectored_df.show(3)\n"
      ],
      "metadata": {
        "colab": {
          "base_uri": "https://localhost:8080/"
        },
        "id": "7G2RKJSblZgF",
        "outputId": "df16e268-eb50-4533-e900-eda8b86397e2"
      },
      "execution_count": null,
      "outputs": [
        {
          "output_type": "stream",
          "name": "stdout",
          "text": [
            "+---------+-----------------+\n",
            "| features|      Sales_Delta|\n",
            "+---------+-----------------+\n",
            "| [4204.0]|98232.45967741936|\n",
            "|[17195.0]|373445.8333333333|\n",
            "|[-4314.0]|          15100.0|\n",
            "+---------+-----------------+\n",
            "only showing top 3 rows\n",
            "\n"
          ]
        }
      ]
    },
    {
      "cell_type": "code",
      "source": [
        "lr = LinearRegression(featuresCol = 'features', labelCol='Sales_Delta', maxIter=10, regParam=0.3, elasticNetParam=0.8)\n",
        "lr_model = lr.fit(vectored_df)\n",
        "print(\"Coefficients: \" + str(lr_model.coefficients))\n",
        "print(\"Intercept: \" + str(lr_model.intercept))"
      ],
      "metadata": {
        "colab": {
          "base_uri": "https://localhost:8080/"
        },
        "id": "p8uy9YCWpU_i",
        "outputId": "0c6285a7-7baf-4040-e7ee-647f4d5cfa3b"
      },
      "execution_count": null,
      "outputs": [
        {
          "output_type": "stream",
          "name": "stdout",
          "text": [
            "Coefficients: [3.20389108570053e-05]\n",
            "Intercept: 156995.86298593535\n"
          ]
        }
      ]
    }
  ]
}